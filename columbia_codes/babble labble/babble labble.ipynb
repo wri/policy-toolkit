{
 "cells": [
  {
   "cell_type": "code",
   "execution_count": null,
   "metadata": {},
   "outputs": [],
   "source": [
    "%load_ext autoreload\n",
    "%autoreload 2\n",
    "\n",
    "import nltk\n",
    "import metal as metal\n",
    "import metal.contrib.info_extraction.mentions\n",
    "import numpy as np\n",
    "\n",
    "\n",
    "\n",
    "# load sentence\n",
    "sentence_1 = 'with international standards. international and regional markets are more lucrative than local markets and accessing them will increase returns.'\n",
    "sentence_2 = 'developing and operationalizing internal data management within the subsector and among the agricultural sector ministries and agencies will enhance efficiency in service delivery.'\n",
    "\n",
    "# tokenize and make pos_tag\n",
    "token1 = nltk.word_tokenize(sentence_1)\n",
    "token2 = nltk.word_tokenize(sentence_2)\n",
    "\n",
    "pos1 = [i[1] for i in nltk.pos_tag(token1)]\n",
    "pos2 = [i[1] for i in nltk.pos_tag(token2)]\n",
    "\n",
    "# make entity_types and ner_tags\n",
    "ent1 = ['0','0','0','0','0','0','1','0','0','0','0','0','0','0','0','0','0','0','1']\n",
    "ent2 = ['0','0','0','0','0','0','0','0','1','0','0','0','0','0','0','0','0','0','0','1', '0','0','0','0']\n",
    "\n",
    "ner1 = ['0','0','0','0','0','0','PERSON','0','0','0','0','0','0','0','0','0','0','0','PERSON']\n",
    "ner2 = ['0','0','0','0','0','0','0','0','PERSON','0','0','0','0','0','0','0','0','0','0','PERSON', '0','0','0','0']\n",
    "\n",
    "import metal as metal\n",
    "import metal.contrib.info_extraction.mentions\n",
    "import numpy as np\n",
    "\n",
    "# prepare sentence into relationmention format\n",
    "ex1 = metal.contrib.info_extraction.mentions.RelationMention(1,\n",
    "            sentence_1, [(57,63),(136,143)],pos_tags = pos1, ner_tags = ner1,entity_types = ent1 )\n",
    "ex2 = metal.contrib.info_extraction.mentions.RelationMention(2,\n",
    "            sentence_2, [(68,77),(149,159)],pos_tags = pos2, ner_tags = ner2,entity_types = ent2  )\n",
    "train_data = [[ex1],[ex2]]\n",
    "\n",
    "# prepare labels into desired format\n",
    "label1 = np.array([1])\n",
    "label2 = np.array([2])\n",
    "label = [label1,label2]"
   ]
  },
  {
   "cell_type": "code",
   "execution_count": null,
   "metadata": {},
   "outputs": [],
   "source": [
    "import babble\n",
    "from babble.utils import display_candidate\n",
    "\n",
    "babbler = babble.BabbleStream(train_data, label, balanced=False, shuffled=False, seed=456)"
   ]
  },
  {
   "cell_type": "code",
   "execution_count": null,
   "metadata": {},
   "outputs": [],
   "source": [
    "candidate = babbler.next()\n",
    "display_candidate(candidate)"
   ]
  },
  {
   "cell_type": "code",
   "execution_count": null,
   "metadata": {},
   "outputs": [],
   "source": [
    "explanation1 = babble.explanation.Explanation(\n",
    "    name='LF_owes_between',\n",
    "    label=2,\n",
    "    condition='The word \"lucrative\" is between X and Y',\n",
    "    candidate=train_data[0][0]\n",
    ")\n",
    "\n",
    "explanations = [explanation1]\n",
    "\n",
    "parses, filtered = babbler.apply(explanations)\n",
    "print(parses)"
   ]
  },
  {
   "cell_type": "code",
   "execution_count": null,
   "metadata": {},
   "outputs": [],
   "source": [
    "babbler.commit()"
   ]
  }
 ],
 "metadata": {
  "kernelspec": {
   "display_name": "Python 3",
   "language": "python",
   "name": "python3"
  },
  "language_info": {
   "codemirror_mode": {
    "name": "ipython",
    "version": 3
   },
   "file_extension": ".py",
   "mimetype": "text/x-python",
   "name": "python",
   "nbconvert_exporter": "python",
   "pygments_lexer": "ipython3",
   "version": "3.7.4"
  }
 },
 "nbformat": 4,
 "nbformat_minor": 2
}
