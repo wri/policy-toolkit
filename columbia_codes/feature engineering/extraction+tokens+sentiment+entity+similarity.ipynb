{
 "cells": [
  {
   "cell_type": "markdown",
   "metadata": {},
   "source": [
    "# Extract text from pdf document: 10.NMSA_Guidelines_English"
   ]
  },
  {
   "cell_type": "code",
   "execution_count": 1,
   "metadata": {},
   "outputs": [],
   "source": [
    "#! pip install pytesseract\n",
    "#!pip install Pillow\n",
    "#!pip install -U numpy"
   ]
  },
  {
   "cell_type": "code",
   "execution_count": 22,
   "metadata": {},
   "outputs": [],
   "source": [
    "from PIL import Image\n",
    "from wand.image import Image as wimage\n",
    "import os\n",
    "import io\n",
    "import pytesseract\n",
    "import numpy as np\n",
    "import re\n",
    "from itertools import islice\n",
    "from functools import reduce\n",
    "import string\n",
    "\n",
    "class Document:\n",
    "    def __init__(self, path, titles = None):\n",
    "        self.path = path\n",
    "        self.name = self.path\n",
    "    \n",
    "    def get_images(self):\n",
    "        page_images = []\n",
    "        with wimage(filename=self.path, resolution=200) as img:\n",
    "            for page_wand_image_seq in img.sequence:\n",
    "                page_wand_image = wimage(page_wand_image_seq)\n",
    "                page_jpeg_bytes = page_wand_image.make_blob(format=\"jpeg\")\n",
    "                page_jpeg_data = io.BytesIO(page_jpeg_bytes)\n",
    "                page_image = Image.open(page_jpeg_data)\n",
    "                page_images.append(page_image)\n",
    "        self.images = page_images\n",
    "        \n",
    "    def process_images(self):\n",
    "        self.text = np.array([pytesseract.image_to_string(x) for x in self.images])\n",
    "        self.pages = [x for x in range(len(self.images))]\n",
    "        \n",
    "    def split_lines(self):\n",
    "        self.lines = {}\n",
    "        counter = 0\n",
    "        pages = [re.split('\\n', self.text[i]) for i in self.pages]\n",
    "        for x, page in enumerate(pages):\n",
    "            for i, line in enumerate(page):\n",
    "                self.lines[i + counter] = [line, x]\n",
    "            counter += len(page)\n",
    "    \n",
    "    def remove_titles(self):\n",
    "        titles = [x for x in list(self.lines.keys()) if self.lines[x][0].lower() != self.lines[x][0] and\\\n",
    "                  len(self.lines[x][0]) <= 50]\n",
    "        titles = [x for x in titles if self.lines[max(0, x - 1)][0].endswith('.') or\\\n",
    "                  self.lines[max(0, x - 1)][0] == '']\n",
    "        print(\"Removing {} titles\".format(len(titles)))\n",
    "        for x in titles:\n",
    "            del self.lines[x]\n",
    "        self.lines = { key : value for key, value in zip(range(len(self.lines)), self.lines.values())}\n",
    "        \n",
    "    def combine_sentences(self):\n",
    "        self.paragraphs = []\n",
    "        ends = [0] + [i + 1 for i in self.lines.keys() if self.lines.get(i)[0].endswith('.')]\n",
    "        sentence_ids = [(val, ends[x + 1]) for x, val in enumerate(ends) if val < max(ends)]\n",
    "        for i in sentence_ids:\n",
    "            lines = [self.lines.get(x)[0] for x in range(i[0], i[1])]\n",
    "            self.paragraphs.append(' '.join(' '.join(lines).split()))\n",
    "            \n",
    "    def remove_headers(self):\n",
    "        words = [x.replace(\".pdf\", \"\") for x in self.path.replace(\"/\", \" \").split(\" \") if x not in [\"..\", \"data\", \"raw\"]]\n",
    "        locs = []\n",
    "        for i in reversed(range(3, len(words) + 1)):\n",
    "            for x in window(words, n = i):\n",
    "                locs.append(' '.join(x))\n",
    "\n",
    "        self.clean = [reduce(lambda item, loc: item.replace(loc,''), [item]+locs)\n",
    "            for item in self.paragraphs]\n",
    "        \n",
    "    def clean_data(self):\n",
    "        self.clean = [re.sub(\"[\\(\\[].*?[\\)\\]]\", \"\", x).lower() for x in self.clean]\n",
    "        self.clean = [x.translate(str.maketrans('', '', string.punctuation)) for x in self.clean]\n",
    "        \n",
    "    def export_data(self):\n",
    "        self.export_path = self.path.replace(\"raw\", \"processed\")\n",
    "        self.export_path = self.export_path.replace(\".pdf\", \".txt\")\n",
    "        with open(self.export_path, \"w\") as text_file:\n",
    "            for x in self.clean:\n",
    "                text_file.write(x)\n",
    "                text_file.write('\\n')"
   ]
  },
  {
   "cell_type": "markdown",
   "metadata": {},
   "source": [
    "### # In doc1,punctuations were removed"
   ]
  },
  {
   "cell_type": "code",
   "execution_count": null,
   "metadata": {},
   "outputs": [],
   "source": [
    "filepath = \"D:/personal/columbia university/capstone/policy-toolkit-master/policy-toolkit-master/data/raw/india/10.NMSA_Guidelines_English.pdf\"\n",
    "doc1 = Document(filepath)\n",
    "# get_image这里出现过error，需要安装Ghostscript\n",
    "doc1.get_images()\n",
    "\n",
    "# !pip install tesseract\n",
    "# !pip install pytesseract\n",
    "pytesseract.pytesseract.tesseract_cmd = r'C:/Program Files/Tesseract-OCR/tesseract.exe'\n",
    "\n",
    "doc1.process_images()\n",
    "print(\"Images processed\")\n",
    "\n",
    "doc1.split_lines()\n",
    "doc1.remove_titles()\n",
    "doc1.combine_sentences()\n",
    "print(\"Sentences combined\")\n",
    "\n",
    "def window(seq, n):\n",
    "            \"Returns a sliding window (of width n) over data from the iterable\"\n",
    "            \"   s -> (s0,s1,...s[n-1]), (s1,s2,...,sn), ...                   \"\n",
    "            it = iter(seq)\n",
    "            result = tuple(islice(it, n))\n",
    "            if len(result) == n:\n",
    "                yield result\n",
    "            for elem in it:\n",
    "                result = result[1:] + (elem,)\n",
    "                yield result\n",
    "doc1.remove_headers()\n",
    "doc1.clean_data()\n",
    "print(\"Text cleaned\")\n",
    "\n",
    "doc1.export_data()\n",
    "print(\"Exported data to: {}\".format(doc1.export_path))"
   ]
  },
  {
   "cell_type": "code",
   "execution_count": null,
   "metadata": {},
   "outputs": [],
   "source": [
    "# this document was transfered to txt/csv with 394 rows"
   ]
  },
  {
   "cell_type": "markdown",
   "metadata": {},
   "source": [
    "### # In doc2,punctuations were remained"
   ]
  },
  {
   "cell_type": "code",
   "execution_count": 55,
   "metadata": {},
   "outputs": [
    {
     "name": "stdout",
     "output_type": "stream",
     "text": [
      "Images processed\n",
      "Removing 441 titles\n",
      "Sentences combined\n",
      "Text cleaned\n",
      "Exported data to: D:/personal/columbia university/capstone/policy-toolkit-master/policy-toolkit-master/data/processed/india/10.NMSA_Guidelines_English.txt\n"
     ]
    }
   ],
   "source": [
    "filepath = \"D:/personal/columbia university/capstone/policy-toolkit-master/policy-toolkit-master/data/raw/india/10.NMSA_Guidelines_English.pdf\"\n",
    "doc2 = Document(filepath)\n",
    "# get_image这里出现过error，需要安装Ghostscript\n",
    "doc2.get_images()\n",
    "\n",
    "# !pip install tesseract\n",
    "# !pip install pytesseract\n",
    "pytesseract.pytesseract.tesseract_cmd = r'C:/Program Files/Tesseract-OCR/tesseract.exe'\n",
    "\n",
    "doc2.process_images()\n",
    "print(\"Images processed\")\n",
    "\n",
    "doc2.split_lines()\n",
    "doc2.remove_titles()\n",
    "doc2.combine_sentences()\n",
    "print(\"Sentences combined\")\n",
    "\n",
    "def window(seq, n):\n",
    "            \"Returns a sliding window (of width n) over data from the iterable\"\n",
    "            \"   s -> (s0,s1,...s[n-1]), (s1,s2,...,sn), ...                   \"\n",
    "            it = iter(seq)\n",
    "            result = tuple(islice(it, n))\n",
    "            if len(result) == n:\n",
    "                yield result\n",
    "            for elem in it:\n",
    "                result = result[1:] + (elem,)\n",
    "                yield result\n",
    "doc2.remove_headers()\n",
    "# doc2.clean_data()\n",
    "print(\"Text cleaned\")\n",
    "\n",
    "doc2.export_data()\n",
    "print(\"Exported data to: {}\".format(doc1.export_path))"
   ]
  },
  {
   "cell_type": "markdown",
   "metadata": {},
   "source": [
    "# Reload the un-cleaned CSV file"
   ]
  },
  {
   "cell_type": "code",
   "execution_count": 242,
   "metadata": {},
   "outputs": [],
   "source": [
    "corpus = open(\"D:/personal/columbia university/capstone/policy-toolkit-master/policy-toolkit-master/data/processed/india/10.NMSA_Guidelines_English.txt\", \"r\").read()"
   ]
  },
  {
   "cell_type": "code",
   "execution_count": 204,
   "metadata": {},
   "outputs": [],
   "source": [
    "# difficulty 1: there are serial numbers in the whole document as well as pages numbers of each part in the catelog page.\n",
    "# and it is hard to throw these numbers.\n",
    "# difficulty 2: the text extracted from pdf is not clear. e.g.\n",
    "# \"chapter  1 sustainable agriculture namiowat mision ron sustawanis acrcuirune orenamiona gudeunes national mission for sustainable agriculture\""
   ]
  },
  {
   "cell_type": "code",
   "execution_count": 243,
   "metadata": {},
   "outputs": [
    {
     "data": {
      "text/plain": [
       "138866"
      ]
     },
     "execution_count": 243,
     "metadata": {},
     "output_type": "execute_result"
    }
   ],
   "source": [
    "len(corpus)"
   ]
  },
  {
   "cell_type": "markdown",
   "metadata": {},
   "source": [
    "# NLP pipeline"
   ]
  },
  {
   "cell_type": "code",
   "execution_count": 205,
   "metadata": {
    "scrolled": true
   },
   "outputs": [],
   "source": [
    "# 1. Use re (regular expression) package to find all matches of amounts in the article\n",
    "'''\n",
    "import re\n",
    "print('amounts:')\n",
    "print(re.findall('\\d*\\.?\\d+?', corpus))\n",
    "'''\n",
    "# Difficulty: more rules should be set to extract the numbers related to financial incentives"
   ]
  },
  {
   "cell_type": "code",
   "execution_count": 206,
   "metadata": {},
   "outputs": [],
   "source": [
    "# 2. Substitute all numbers with # character and print the output\n",
    "\n",
    "# is it feasible if I replace numbers with '#'?\n",
    "\n",
    "#print(re.sub(r'[0-9]','#',corpus))"
   ]
  },
  {
   "cell_type": "code",
   "execution_count": 207,
   "metadata": {},
   "outputs": [],
   "source": [
    "# 3. Use NTLK and/or Spacy (Links to an external site.) tokenization features to:\n",
    "'''\n",
    "import nltk\n",
    "nltk.download('punkt')\n",
    "# Tokenize sentences and words\n",
    "from nltk import word_tokenize, sent_tokenize, ngrams, pos_tag, RegexpParser\n",
    "from collections import Counter\n",
    "tokens_all=word_tokenize(corpus)\n",
    "print(tokens_all)\n",
    "'''"
   ]
  },
  {
   "cell_type": "code",
   "execution_count": 208,
   "metadata": {},
   "outputs": [
    {
     "data": {
      "text/plain": [
       "\"\\nnltk.download('stopwords')\\nfrom nltk.corpus import stopwords\\n\\nnltk.download('wordnet')\\nfrom nltk.stem import WordNetLemmatizer\\n\\nfrom nltk.stem.porter import PorterStemmer\\n\""
      ]
     },
     "execution_count": 208,
     "metadata": {},
     "output_type": "execute_result"
    }
   ],
   "source": [
    "'''\n",
    "nltk.download('stopwords')\n",
    "from nltk.corpus import stopwords\n",
    "\n",
    "nltk.download('wordnet')\n",
    "from nltk.stem import WordNetLemmatizer\n",
    "\n",
    "from nltk.stem.porter import PorterStemmer\n",
    "'''"
   ]
  },
  {
   "cell_type": "code",
   "execution_count": 209,
   "metadata": {},
   "outputs": [
    {
     "data": {
      "text/plain": [
       "\"\\n# 4. Remove all English stop words\\nstop_words = set(stopwords.words('english')) \\nfiltered_words = [] \\n\\n# 5. Lemmatize and deduplicate unigrams into a dictionary\\n# using Lemmatization\\nwordnet_lemmatizer = WordNetLemmatizer()\\ndedup=[]\\n#porter_stemmer=PorterStemmer()\\n#dedup2=[]\\n\\nfor w in tokens_all: \\n    if w not in stop_words: \\n        filtered_words.append(w) \\n        dedup.append(wordnet_lemmatizer.lemmatize(w))\\n        #dedup2.append(porter_stemmer.stem(w))\\n# print('After removing all English stop words: \\n',filtered_words,'\\n')\\nprint('After removing all English stop words: \\n','Length of the filtered words: \\n',len(filtered_words),'\\n')\\nprint('Lemmatizing and deduplicating unigrams into a dictionary: \\n','Length of the dictionary: ',len(dedup),'\\n')\\n#print('Stemming: \\n','Length of the dictionary: ',len(dedup2),'\\n')\\n\\nprint('The dictionary after lemmatizing: \\n',dedup,'\\n')\\n#print('The dictionary after Stemming: \\n',dedup2,'\\n')\\n\""
      ]
     },
     "execution_count": 209,
     "metadata": {},
     "output_type": "execute_result"
    }
   ],
   "source": [
    "'''\n",
    "# 4. Remove all English stop words\n",
    "stop_words = set(stopwords.words('english')) \n",
    "filtered_words = [] \n",
    "\n",
    "# 5. Lemmatize and deduplicate unigrams into a dictionary\n",
    "# using Lemmatization\n",
    "wordnet_lemmatizer = WordNetLemmatizer()\n",
    "dedup=[]\n",
    "#porter_stemmer=PorterStemmer()\n",
    "#dedup2=[]\n",
    "\n",
    "for w in tokens_all: \n",
    "    if w not in stop_words: \n",
    "        filtered_words.append(w) \n",
    "        dedup.append(wordnet_lemmatizer.lemmatize(w))\n",
    "        #dedup2.append(porter_stemmer.stem(w))\n",
    "# print('After removing all English stop words: \\n',filtered_words,'\\n')\n",
    "print('After removing all English stop words: \\n','Length of the filtered words: \\n',len(filtered_words),'\\n')\n",
    "print('Lemmatizing and deduplicating unigrams into a dictionary: \\n','Length of the dictionary: ',len(dedup),'\\n')\n",
    "#print('Stemming: \\n','Length of the dictionary: ',len(dedup2),'\\n')\n",
    "\n",
    "print('The dictionary after lemmatizing: \\n',dedup,'\\n')\n",
    "#print('The dictionary after Stemming: \\n',dedup2,'\\n')\n",
    "'''"
   ]
  },
  {
   "cell_type": "markdown",
   "metadata": {},
   "source": [
    "### # Text Tokens"
   ]
  },
  {
   "cell_type": "code",
   "execution_count": 58,
   "metadata": {},
   "outputs": [],
   "source": [
    "import en_core_web_sm\n",
    "nlp = en_core_web_sm.load()"
   ]
  },
  {
   "cell_type": "code",
   "execution_count": 59,
   "metadata": {},
   "outputs": [],
   "source": [
    "# Our corpus is bigger than the default limit, we will set\n",
    "# a new limit equal to its length.\n",
    "nlp.max_length = len(corpus)\n",
    "doc = nlp(corpus)"
   ]
  },
  {
   "cell_type": "code",
   "execution_count": 86,
   "metadata": {},
   "outputs": [],
   "source": [
    "data_list = [[\"text\",\"text_lower\", \"lemma\", \"lemma_lower\",\"part_of_speech\", \"is_alphabet\", \"is_stopword\"]]\n",
    "\n",
    "for token in doc:\n",
    "    data_list.append([token.text, token.lower_, token.lemma_, token.lemma_.lower(), token.pos_, token.is_alpha, token.is_stop])\n",
    "\n",
    "# pos_:part of speech(predicted by statistical model)\n",
    "\n",
    "import csv\n",
    "\n",
    "csv.writer(open(\"D:/personal/columbia university/capstone/policy-toolkit-master/policy-toolkit-master/data/processed/india/10.NMSA_Guidelines_English_tokens.csv\", \"w\", encoding=\"utf-8\",\n",
    "                newline=\"\")).writerows(data_list)"
   ]
  },
  {
   "cell_type": "markdown",
   "metadata": {},
   "source": [
    "### # Text Entities"
   ]
  },
  {
   "cell_type": "code",
   "execution_count": 87,
   "metadata": {},
   "outputs": [],
   "source": [
    "data_list = [[\"text\",\"text_lower\", \"label\"]]\n",
    "\n",
    "for ent in doc.ents:\n",
    "    data_list.append([ent.text, ent.lower_, ent.label_])\n",
    "\n",
    "csv.writer(open(\"D:/personal/columbia university/capstone/policy-toolkit-master/policy-toolkit-master/data/processed/india/10.NMSA_Guidelines_English_entities.csv\", \"w\", encoding=\"utf-8\",\n",
    "                newline=\"\")).writerows(data_list)\n",
    "\n",
    "# the model was trained from Wikipedia"
   ]
  },
  {
   "cell_type": "markdown",
   "metadata": {},
   "source": [
    "### # Text Sentences"
   ]
  },
  {
   "cell_type": "code",
   "execution_count": 68,
   "metadata": {},
   "outputs": [],
   "source": [
    "# in this part I counted the number of positive and negative words per sentence.\n",
    "# the english opinion lexicon was downloaded from <https://www.cs.uic.edu/~liub/FBS/sentiment-analysis.html>\n",
    "\n",
    "with open(\"D:/personal/columbia university/capstone/opinion-lexicon-English/positive-words.txt\", \"r\") as temp_file:\n",
    "    positive_words = temp_file.read().splitlines()\n",
    "\n",
    "with open(\"D:/personal/columbia university/capstone/opinion-lexicon-English/negative-words.txt\", \"r\") as temp_file:\n",
    "    negative_words = temp_file.read().splitlines()"
   ]
  },
  {
   "cell_type": "code",
   "execution_count": 88,
   "metadata": {},
   "outputs": [],
   "source": [
    "# Now we will iterate over the doc.sents object and keep a score for each sentence and save the results to csv.\n",
    "data_list = [[\"text\", \"score\"]]\n",
    "\n",
    "for sent in doc.sents:\n",
    "    # Only take into account real sentences.\n",
    "    if len(sent.text) > 10:\n",
    "        score = 0\n",
    "        # Start scoring the sentence.\n",
    "        for word in sent:\n",
    "\n",
    "            if word.lower_ in positive_words:\n",
    "                score += 1\n",
    "\n",
    "            if word.lower_ in negative_words:\n",
    "                score -= 1\n",
    "\n",
    "        data_list.append([sent.text, score])\n",
    "\n",
    "csv.writer(open(\"D:/personal/columbia university/capstone/policy-toolkit-master/policy-toolkit-master/data/processed/india/10.NMSA_Guidelines_English_sentences.csv\", \"w\", encoding=\"utf-8\",\n",
    "                newline=\"\")).writerows(data_list)"
   ]
  },
  {
   "cell_type": "markdown",
   "metadata": {},
   "source": [
    "# Plotting the Data"
   ]
  },
  {
   "cell_type": "code",
   "execution_count": 239,
   "metadata": {},
   "outputs": [],
   "source": [
    "# set some custom colors that will apply globally to each plot.\n",
    "sns.set(style=\"ticks\",\n",
    "    rc={\n",
    "        \"figure.figsize\": [12, 7],\n",
    "        \"text.color\": \"white\",\n",
    "        \"axes.labelcolor\": \"white\",\n",
    "        \"axes.edgecolor\": \"white\",\n",
    "        \"xtick.color\": \"white\",\n",
    "        \"ytick.color\": \"white\",\n",
    "        \"axes.facecolor\": \"#5C0E10\",\n",
    "        \"figure.facecolor\": \"#5C0E10\"}\n",
    "    )"
   ]
  },
  {
   "cell_type": "markdown",
   "metadata": {},
   "source": [
    "### # Most Used Words"
   ]
  },
  {
   "cell_type": "code",
   "execution_count": 231,
   "metadata": {},
   "outputs": [],
   "source": [
    "tokens = pd.read_csv(\"D:/personal/columbia university/capstone/policy-toolkit-master/policy-toolkit-master/data/processed/india/10.NMSA_Guidelines_English_tokens.csv\")"
   ]
  },
  {
   "cell_type": "code",
   "execution_count": 232,
   "metadata": {},
   "outputs": [
    {
     "data": {
      "text/html": [
       "<div>\n",
       "<style scoped>\n",
       "    .dataframe tbody tr th:only-of-type {\n",
       "        vertical-align: middle;\n",
       "    }\n",
       "\n",
       "    .dataframe tbody tr th {\n",
       "        vertical-align: top;\n",
       "    }\n",
       "\n",
       "    .dataframe thead th {\n",
       "        text-align: right;\n",
       "    }\n",
       "</style>\n",
       "<table border=\"1\" class=\"dataframe\">\n",
       "  <thead>\n",
       "    <tr style=\"text-align: right;\">\n",
       "      <th></th>\n",
       "      <th>text</th>\n",
       "      <th>text_lower</th>\n",
       "      <th>lemma</th>\n",
       "      <th>lemma_lower</th>\n",
       "      <th>part_of_speech</th>\n",
       "      <th>is_alphabet</th>\n",
       "      <th>is_stopword</th>\n",
       "    </tr>\n",
       "  </thead>\n",
       "  <tbody>\n",
       "    <tr>\n",
       "      <td>0</td>\n",
       "      <td>NATIONAL</td>\n",
       "      <td>national</td>\n",
       "      <td>NATIONAL</td>\n",
       "      <td>national</td>\n",
       "      <td>PROPN</td>\n",
       "      <td>True</td>\n",
       "      <td>False</td>\n",
       "    </tr>\n",
       "    <tr>\n",
       "      <td>1</td>\n",
       "      <td>MISSION</td>\n",
       "      <td>mission</td>\n",
       "      <td>MISSION</td>\n",
       "      <td>mission</td>\n",
       "      <td>PROPN</td>\n",
       "      <td>True</td>\n",
       "      <td>False</td>\n",
       "    </tr>\n",
       "    <tr>\n",
       "      <td>2</td>\n",
       "      <td>FOR</td>\n",
       "      <td>for</td>\n",
       "      <td>for</td>\n",
       "      <td>for</td>\n",
       "      <td>ADP</td>\n",
       "      <td>True</td>\n",
       "      <td>True</td>\n",
       "    </tr>\n",
       "    <tr>\n",
       "      <td>3</td>\n",
       "      <td>SUSTAINABLE</td>\n",
       "      <td>sustainable</td>\n",
       "      <td>SUSTAINABLE</td>\n",
       "      <td>sustainable</td>\n",
       "      <td>PROPN</td>\n",
       "      <td>True</td>\n",
       "      <td>False</td>\n",
       "    </tr>\n",
       "    <tr>\n",
       "      <td>4</td>\n",
       "      <td>AGRICULTURE</td>\n",
       "      <td>agriculture</td>\n",
       "      <td>AGRICULTURE</td>\n",
       "      <td>agriculture</td>\n",
       "      <td>PROPN</td>\n",
       "      <td>True</td>\n",
       "      <td>False</td>\n",
       "    </tr>\n",
       "    <tr>\n",
       "      <td>5</td>\n",
       "      <td>ef</td>\n",
       "      <td>ef</td>\n",
       "      <td>ef</td>\n",
       "      <td>ef</td>\n",
       "      <td>PROPN</td>\n",
       "      <td>True</td>\n",
       "      <td>False</td>\n",
       "    </tr>\n",
       "    <tr>\n",
       "      <td>6</td>\n",
       "      <td>Ministry</td>\n",
       "      <td>ministry</td>\n",
       "      <td>Ministry</td>\n",
       "      <td>ministry</td>\n",
       "      <td>PROPN</td>\n",
       "      <td>True</td>\n",
       "      <td>False</td>\n",
       "    </tr>\n",
       "    <tr>\n",
       "      <td>7</td>\n",
       "      <td>of</td>\n",
       "      <td>of</td>\n",
       "      <td>of</td>\n",
       "      <td>of</td>\n",
       "      <td>ADP</td>\n",
       "      <td>True</td>\n",
       "      <td>True</td>\n",
       "    </tr>\n",
       "    <tr>\n",
       "      <td>8</td>\n",
       "      <td>Agriculture</td>\n",
       "      <td>agriculture</td>\n",
       "      <td>Agriculture</td>\n",
       "      <td>agriculture</td>\n",
       "      <td>PROPN</td>\n",
       "      <td>True</td>\n",
       "      <td>False</td>\n",
       "    </tr>\n",
       "    <tr>\n",
       "      <td>9</td>\n",
       "      <td>www.agricoop.nic.in</td>\n",
       "      <td>www.agricoop.nic.in</td>\n",
       "      <td>www.agricoop.nic.in</td>\n",
       "      <td>www.agricoop.nic.in</td>\n",
       "      <td>PROPN</td>\n",
       "      <td>False</td>\n",
       "      <td>False</td>\n",
       "    </tr>\n",
       "  </tbody>\n",
       "</table>\n",
       "</div>"
      ],
      "text/plain": [
       "                  text           text_lower                lemma  \\\n",
       "0             NATIONAL             national             NATIONAL   \n",
       "1              MISSION              mission              MISSION   \n",
       "2                  FOR                  for                  for   \n",
       "3          SUSTAINABLE          sustainable          SUSTAINABLE   \n",
       "4          AGRICULTURE          agriculture          AGRICULTURE   \n",
       "5                   ef                   ef                   ef   \n",
       "6             Ministry             ministry             Ministry   \n",
       "7                   of                   of                   of   \n",
       "8          Agriculture          agriculture          Agriculture   \n",
       "9  www.agricoop.nic.in  www.agricoop.nic.in  www.agricoop.nic.in   \n",
       "\n",
       "           lemma_lower part_of_speech  is_alphabet  is_stopword  \n",
       "0             national          PROPN         True        False  \n",
       "1              mission          PROPN         True        False  \n",
       "2                  for            ADP         True         True  \n",
       "3          sustainable          PROPN         True        False  \n",
       "4          agriculture          PROPN         True        False  \n",
       "5                   ef          PROPN         True        False  \n",
       "6             ministry          PROPN         True        False  \n",
       "7                   of            ADP         True         True  \n",
       "8          agriculture          PROPN         True        False  \n",
       "9  www.agricoop.nic.in          PROPN        False        False  "
      ]
     },
     "execution_count": 232,
     "metadata": {},
     "output_type": "execute_result"
    }
   ],
   "source": [
    "tokens.head(10)"
   ]
  },
  {
   "cell_type": "code",
   "execution_count": 233,
   "metadata": {},
   "outputs": [],
   "source": [
    "# We will only take into account the top 20 alphabet tokens that are longer than 1 character and are not stop words.\n",
    "words = tokens[(tokens[\"is_alphabet\"] == True) & (tokens[\"is_stopword\"] == False) & (\n",
    "    tokens[\"lemma_lower\"].str.len() > 1)][\"lemma_lower\"].value_counts()[:25]"
   ]
  },
  {
   "cell_type": "code",
   "execution_count": 234,
   "metadata": {},
   "outputs": [
    {
     "data": {
      "image/png": "[encoded data removed]",
      "text/plain": [
       "<Figure size 864x504 with 1 Axes>"
      ]
     },
     "metadata": {},
     "output_type": "display_data"
    }
   ],
   "source": [
    "import seaborn as sns\n",
    "import matplotlib.pyplot as plt\n",
    "sns.barplot(x=words.values, y=words.index, palette=\"Blues_d\", linewidth=0)\n",
    "plt.xlabel(\"Ocurrences Count\")\n",
    "plt.title(\"Most Frequent Words\")\n",
    "plt.show()"
   ]
  },
  {
   "cell_type": "code",
   "execution_count": 182,
   "metadata": {},
   "outputs": [
    {
     "data": {
      "text/plain": [
       "state          195\n",
       "system         167\n",
       "soil           164\n",
       "management     108\n",
       "agriculture    103\n",
       "etc            101\n",
       "organic         98\n",
       "mission         91\n",
       "assistance      88\n",
       "farmer          86\n",
       "fertilizer      85\n",
       "component       84\n",
       "farming         79\n",
       "national        73\n",
       "cost            72\n",
       "nmsa            70\n",
       "technical       69\n",
       "programme       68\n",
       "development     66\n",
       "water           66\n",
       "quality         66\n",
       "plan            65\n",
       "provide         65\n",
       "project         64\n",
       "level           63\n",
       "Name: lemma_lower, dtype: int64"
      ]
     },
     "execution_count": 182,
     "metadata": {},
     "output_type": "execute_result"
    }
   ],
   "source": [
    "words"
   ]
  },
  {
   "cell_type": "markdown",
   "metadata": {},
   "source": [
    "### # Sentiment Analysis"
   ]
  },
  {
   "cell_type": "code",
   "execution_count": 241,
   "metadata": {},
   "outputs": [
    {
     "data": {
      "image/png": "[encoded data removed]",
      "text/plain": [
       "<Figure size 864x504 with 1 Axes>"
      ]
     },
     "metadata": {},
     "output_type": "display_data"
    }
   ],
   "source": [
    "senti = pd.read_csv(\"D:/personal/columbia university/capstone/policy-toolkit-master/policy-toolkit-master/data/processed/india/10.NMSA_Guidelines_English_sentences.csv\")\n",
    "barplot=plt.bar(senti.index, senti[\"score\"], color=(0.2, 0.4, 0.4, 1.0), linewidth=1)\n",
    "for i in range(len(senti)):\n",
    "    if senti[\"score\"][i]<0:\n",
    "        barplot[i].set_color('orange')\n",
    "yticks_labels = [\"{}\".format(int(i)) for i in np.arange(-4, 18, 2)]\n",
    "plt.yticks(np.arange(-4, 18, 2), yticks_labels)\n",
    "plt.xlabel(\"Sentence Number\")\n",
    "plt.ylabel(\"Score\")\n",
    "plt.title(\"Sentiment Analysis\")\n",
    "plt.show()\n",
    "\n",
    "# it is unrealiable to simply use sentiment words to tell the emotion of sentences.\n",
    "# snorkel is a better way to do sentiment analysis, so in our next step, we will tune snorkel and keep using it."
   ]
  },
  {
   "cell_type": "code",
   "execution_count": null,
   "metadata": {},
   "outputs": [],
   "source": []
  },
  {
   "cell_type": "markdown",
   "metadata": {},
   "source": [
    "# Extract text from pdf document: 1.PESA"
   ]
  },
  {
   "cell_type": "code",
   "execution_count": 211,
   "metadata": {},
   "outputs": [
    {
     "name": "stdout",
     "output_type": "stream",
     "text": [
      "Images processed\n",
      "Removing 7 titles\n",
      "Sentences combined\n",
      "Text cleaned\n",
      "Exported data to: D:/personal/columbia university/capstone/policy-toolkit-master/policy-toolkit-master/data/processed/india/1.PESA.txt\n"
     ]
    }
   ],
   "source": [
    "filepath = \"D:/personal/columbia university/capstone/policy-toolkit-master/policy-toolkit-master/data/raw/india/1.PESA.pdf\"\n",
    "doc = Document(filepath) # get_image这里出现过error，需要安装Ghostscript\n",
    "doc.get_images()\n",
    "pytesseract.pytesseract.tesseract_cmd = r'C:/Program Files/Tesseract-OCR/tesseract.exe'\n",
    "doc.process_images()\n",
    "print(\"Images processed\")\n",
    "doc.split_lines()\n",
    "doc.remove_titles()\n",
    "doc.combine_sentences()\n",
    "print(\"Sentences combined\")\n",
    "def window(seq, n):\n",
    "            \"Returns a sliding window (of width n) over data from the iterable\"\n",
    "            \"   s -> (s0,s1,...s[n-1]), (s1,s2,...,sn), ...                   \"\n",
    "            it = iter(seq)\n",
    "            result = tuple(islice(it, n))\n",
    "            if len(result) == n:\n",
    "                yield result\n",
    "            for elem in it:\n",
    "                result = result[1:] + (elem,)\n",
    "                yield result\n",
    "doc.remove_headers()\n",
    "print(\"Text cleaned\")\n",
    "doc.export_data()\n",
    "print(\"Exported data to: {}\".format(doc.export_path))"
   ]
  },
  {
   "cell_type": "code",
   "execution_count": 225,
   "metadata": {},
   "outputs": [],
   "source": [
    "class Nlp_pipeline:\n",
    "    def __init__(self, path, titles = None):\n",
    "        self.path = path\n",
    "        self.corpus = open(path,'r').read()\n",
    "        nlp.max_length = len(self.corpus)\n",
    "        self.doc = nlp(self.corpus)\n",
    "    \n",
    "    def text_token(self):\n",
    "        data_list=[[\"text\",\"text_lower\", \"lemma\", \"lemma_lower\",\"part_of_speech\", \"is_alphabet\", \"is_stopword\"]]\n",
    "        self.tokens_export_path = self.path.replace(\".txt\", \"_tokens.csv\")\n",
    "        for token in self.doc:\n",
    "            data_list.append([token.text, token.lower_, token.lemma_, token.lemma_.lower(), token.pos_, token.is_alpha, token.is_stop])\n",
    "        csv.writer(open(self.tokens_export_path, \"w\", encoding=\"utf-8\",\n",
    "                newline=\"\")).writerows(data_list)\n",
    "    \n",
    "    def text_entities(self):\n",
    "        data_list = [[\"text\",\"text_lower\", \"label\"]]\n",
    "        self.entities_export_path = self.path.replace(\".txt\", \"_entities.csv\")\n",
    "        for ent in self.doc.ents:\n",
    "            data_list.append([ent.text, ent.lower_, ent.label_])\n",
    "        csv.writer(open(self.entities_export_path, \"w\", encoding=\"utf-8\",\n",
    "                newline=\"\")).writerows(data_list)\n",
    "        "
   ]
  },
  {
   "cell_type": "code",
   "execution_count": 227,
   "metadata": {},
   "outputs": [],
   "source": [
    "import en_core_web_sm\n",
    "import csv\n",
    "nlp = en_core_web_sm.load()\n",
    "\n",
    "import seaborn as sns\n",
    "import matplotlib.pyplot as plt\n",
    "\n",
    "path=\"D:/personal/columbia university/capstone/policy-toolkit-master/policy-toolkit-master/data/processed/india/1.PESA.txt\"\n",
    "\n",
    "pipeline=Nlp_pipeline(path)\n",
    "pipeline.text_token()\n",
    "pipeline.text_entities()\n"
   ]
  },
  {
   "cell_type": "code",
   "execution_count": 229,
   "metadata": {},
   "outputs": [
    {
     "data": {
      "image/png": "[encoded data removed]",
      "text/plain": [
       "<Figure size 864x504 with 1 Axes>"
      ]
     },
     "metadata": {},
     "output_type": "display_data"
    }
   ],
   "source": [
    "tokens = pd.read_csv(pipeline.tokens_export_path)\n",
    "words = tokens[(tokens[\"is_alphabet\"] == True) & (tokens[\"is_stopword\"] == False) & (tokens[\"lemma_lower\"].str.len() > 1)][\"lemma_lower\"].value_counts()[:25]\n",
    "sns.barplot(x=words.values, y=words.index, palette=\"Blues_d\", linewidth=0)\n",
    "plt.xlabel(\"Ocurrences Count\")\n",
    "plt.title(\"Most Frequent Words\")\n",
    "plt.show()"
   ]
  },
  {
   "cell_type": "code",
   "execution_count": 244,
   "metadata": {},
   "outputs": [],
   "source": [
    "data_list = [[\"text\", \"score\"]]\n",
    "doc=pipeline.doc\n",
    "for sent in doc.sents:\n",
    "    # Only take into account real sentences.\n",
    "    if len(sent.text) > 10:\n",
    "        score = 0\n",
    "        # Start scoring the sentence.\n",
    "        for word in sent:\n",
    "\n",
    "            if word.lower_ in positive_words:\n",
    "                score += 1\n",
    "\n",
    "            if word.lower_ in negative_words:\n",
    "                score -= 1\n",
    "\n",
    "        data_list.append([sent.text, score])\n",
    "\n",
    "csv.writer(open(\"D:/personal/columbia university/capstone/policy-toolkit-master/policy-toolkit-master/data/processed/india/1.PESA_sentences.csv\", \"w\", encoding=\"utf-8\",\n",
    "                newline=\"\")).writerows(data_list)"
   ]
  },
  {
   "cell_type": "code",
   "execution_count": 245,
   "metadata": {
    "scrolled": false
   },
   "outputs": [
    {
     "data": {
      "image/png": "[encoded data removed]",
      "text/plain": [
       "<Figure size 864x504 with 1 Axes>"
      ]
     },
     "metadata": {},
     "output_type": "display_data"
    }
   ],
   "source": [
    "senti = pd.read_csv(\"D:/personal/columbia university/capstone/policy-toolkit-master/policy-toolkit-master/data/processed/india/1.PESA_sentences.csv\")\n",
    "barplot=plt.bar(senti.index, senti[\"score\"], color=(0.2, 0.4, 0.4, 1.0), linewidth=1)\n",
    "for i in range(len(senti)):\n",
    "    if senti[\"score\"][i]<0:\n",
    "        barplot[i].set_color('orange')\n",
    "yticks_labels = [\"{}\".format(int(i)) for i in np.arange(-4, 18, 2)]\n",
    "plt.yticks(np.arange(-4, 18, 2), yticks_labels)\n",
    "plt.xlabel(\"Sentence Number\")\n",
    "plt.ylabel(\"Score\")\n",
    "plt.title(\"Sentiment Analysis\")\n",
    "plt.show()"
   ]
  },
  {
   "cell_type": "code",
   "execution_count": null,
   "metadata": {},
   "outputs": [],
   "source": []
  },
  {
   "cell_type": "markdown",
   "metadata": {},
   "source": [
    "# Extract text from pdf document: 2.FRA"
   ]
  },
  {
   "cell_type": "code",
   "execution_count": 246,
   "metadata": {},
   "outputs": [
    {
     "name": "stdout",
     "output_type": "stream",
     "text": [
      "Images processed\n",
      "Removing 187 titles\n",
      "Sentences combined\n",
      "Text cleaned\n",
      "Exported data to: D:/personal/columbia university/capstone/policy-toolkit-master/policy-toolkit-master/data/processed/india/2.FRA.txt\n"
     ]
    }
   ],
   "source": [
    "filepath = \"D:/personal/columbia university/capstone/policy-toolkit-master/policy-toolkit-master/data/raw/india/2.FRA.pdf\"\n",
    "doc = Document(filepath) # get_image这里出现过error，需要安装Ghostscript\n",
    "doc.get_images()\n",
    "pytesseract.pytesseract.tesseract_cmd = r'C:/Program Files/Tesseract-OCR/tesseract.exe'\n",
    "doc.process_images()\n",
    "print(\"Images processed\")\n",
    "doc.split_lines()\n",
    "doc.remove_titles()\n",
    "doc.combine_sentences()\n",
    "print(\"Sentences combined\")\n",
    "def window(seq, n):\n",
    "            \"Returns a sliding window (of width n) over data from the iterable\"\n",
    "            \"   s -> (s0,s1,...s[n-1]), (s1,s2,...,sn), ...                   \"\n",
    "            it = iter(seq)\n",
    "            result = tuple(islice(it, n))\n",
    "            if len(result) == n:\n",
    "                yield result\n",
    "            for elem in it:\n",
    "                result = result[1:] + (elem,)\n",
    "                yield result\n",
    "doc.remove_headers()\n",
    "print(\"Text cleaned\")\n",
    "doc.export_data()\n",
    "print(\"Exported data to: {}\".format(doc.export_path))"
   ]
  },
  {
   "cell_type": "code",
   "execution_count": 247,
   "metadata": {},
   "outputs": [],
   "source": [
    "#import en_core_web_sm\n",
    "#import csv\n",
    "nlp = en_core_web_sm.load()\n",
    "\n",
    "#import seaborn as sns\n",
    "#import matplotlib.pyplot as plt\n",
    "\n",
    "path=\"D:/personal/columbia university/capstone/policy-toolkit-master/policy-toolkit-master/data/processed/india/2.FRA.txt\"\n",
    "\n",
    "pipeline=Nlp_pipeline(path)\n",
    "pipeline.text_token()\n",
    "pipeline.text_entities()\n"
   ]
  },
  {
   "cell_type": "code",
   "execution_count": 248,
   "metadata": {},
   "outputs": [
    {
     "data": {
      "image/png": "[encoded data removed]",
      "text/plain": [
       "<Figure size 864x504 with 1 Axes>"
      ]
     },
     "metadata": {},
     "output_type": "display_data"
    }
   ],
   "source": [
    "tokens = pd.read_csv(pipeline.tokens_export_path)\n",
    "words = tokens[(tokens[\"is_alphabet\"] == True) & (tokens[\"is_stopword\"] == False) & (tokens[\"lemma_lower\"].str.len() > 1)][\"lemma_lower\"].value_counts()[:25]\n",
    "sns.barplot(x=words.values, y=words.index, palette=\"Blues_d\", linewidth=0)\n",
    "plt.xlabel(\"Ocurrences Count\")\n",
    "plt.title(\"Most Frequent Words\")\n",
    "plt.show()"
   ]
  },
  {
   "cell_type": "code",
   "execution_count": 250,
   "metadata": {},
   "outputs": [],
   "source": [
    "data_list = [[\"text\", \"score\"]]\n",
    "doc=pipeline.doc\n",
    "for sent in doc.sents:\n",
    "    # Only take into account real sentences.\n",
    "    if len(sent.text) > 10:\n",
    "        score = 0\n",
    "        # Start scoring the sentence.\n",
    "        for word in sent:\n",
    "\n",
    "            if word.lower_ in positive_words:\n",
    "                score += 1\n",
    "\n",
    "            if word.lower_ in negative_words:\n",
    "                score -= 1\n",
    "\n",
    "        data_list.append([sent.text, score])\n",
    "\n",
    "csv.writer(open(\"D:/personal/columbia university/capstone/policy-toolkit-master/policy-toolkit-master/data/processed/india/2.FRA_sentences.csv\", \"w\", encoding=\"utf-8\",\n",
    "                newline=\"\")).writerows(data_list)"
   ]
  },
  {
   "cell_type": "code",
   "execution_count": 251,
   "metadata": {},
   "outputs": [
    {
     "data": {
      "image/png": "[encoded data removed]",
      "text/plain": [
       "<Figure size 864x504 with 1 Axes>"
      ]
     },
     "metadata": {},
     "output_type": "display_data"
    }
   ],
   "source": [
    "senti = pd.read_csv(\"D:/personal/columbia university/capstone/policy-toolkit-master/policy-toolkit-master/data/processed/india/2.FRA_sentences.csv\")\n",
    "barplot=plt.bar(senti.index, senti[\"score\"], color=(0.2, 0.4, 0.4, 1.0), linewidth=1)\n",
    "for i in range(len(senti)):\n",
    "    if senti[\"score\"][i]<0:\n",
    "        barplot[i].set_color('orange')\n",
    "yticks_labels = [\"{}\".format(int(i)) for i in np.arange(-4, 18, 2)]\n",
    "plt.yticks(np.arange(-4, 18, 2), yticks_labels)\n",
    "plt.xlabel(\"Sentence Number\")\n",
    "plt.ylabel(\"Score\")\n",
    "plt.title(\"Sentiment Analysis\")\n",
    "plt.show()"
   ]
  },
  {
   "cell_type": "markdown",
   "metadata": {},
   "source": [
    "# Calculate distance between these two documents"
   ]
  },
  {
   "cell_type": "code",
   "execution_count": 299,
   "metadata": {},
   "outputs": [],
   "source": [
    "tokens1 = pd.read_csv(\"D:/personal/columbia university/capstone/policy-toolkit-master/policy-toolkit-master/data/processed/india/1.PESA_tokens.csv\")\n",
    "tf1 = tokens1[(tokens1[\"is_alphabet\"] == True) & (tokens1[\"is_stopword\"] == False) & (tokens1[\"lemma_lower\"].str.len() > 1)][\"lemma_lower\"].value_counts()\n",
    "\n",
    "tokens2 = pd.read_csv(\"D:/personal/columbia university/capstone/policy-toolkit-master/policy-toolkit-master/data/processed/india/2.FRA_tokens.csv\")\n",
    "tf2 = tokens2[(tokens2[\"is_alphabet\"] == True) & (tokens2[\"is_stopword\"] == False) & (tokens2[\"lemma_lower\"].str.len() > 1)][\"lemma_lower\"].value_counts()\n",
    "\n",
    "tokens3 = pd.read_csv(\"D:/personal/columbia university/capstone/policy-toolkit-master/policy-toolkit-master/data/processed/india/10.NMSA_Guidelines_English_tokens.csv\")\n",
    "tf3 = tokens3[(tokens3[\"is_alphabet\"] == True) & (tokens3[\"is_stopword\"] == False) & (tokens3[\"lemma_lower\"].str.len() > 1)][\"lemma_lower\"].value_counts()\n",
    "\n",
    "tf1=pd.DataFrame(tf1)\n",
    "tf2=pd.DataFrame(tf2)\n",
    "tf3=pd.DataFrame(tf3)"
   ]
  },
  {
   "cell_type": "code",
   "execution_count": 311,
   "metadata": {},
   "outputs": [],
   "source": [
    "def cos_sim(a,b):\n",
    "    dot_product=np.dot(a,b)\n",
    "    norm_a=np.linalg.norm(a)\n",
    "    norm_b=np.linalg.norm(b)\n",
    "    return dot_product/(norm_a * norm_b)\n",
    "\n",
    "def getSimilarity(tf1,tf2):\n",
    "    all_words_list=[]\n",
    "    for item in tf1.index:\n",
    "        all_words_list.append(item)\n",
    "    for item in tf2.index:\n",
    "        all_words_list.append(item)\n",
    "    all_words_list_size = len(all_words_list)\n",
    "    \n",
    "    v1=np.zeros(all_words_list_size, dtype=np.int)\n",
    "    v2=np.zeros(all_words_list_size, dtype=np.int)\n",
    "    i=0\n",
    "    for item in all_words_list:\n",
    "        if item in tf1.index:\n",
    "            v1[i]=int(tf1[tf1.index==item][\"lemma_lower\"])\n",
    "        else:\n",
    "            v1[i]=0\n",
    "        if item in tf2.index:\n",
    "            v2[i]=int(tf2[tf2.index==item][\"lemma_lower\"])\n",
    "        else:\n",
    "            v2[i]=0\n",
    "        i+=1\n",
    "    return cos_sim(v1,v2)"
   ]
  },
  {
   "cell_type": "code",
   "execution_count": 312,
   "metadata": {},
   "outputs": [
    {
     "data": {
      "text/plain": [
       "0.42115016257049465"
      ]
     },
     "execution_count": 312,
     "metadata": {},
     "output_type": "execute_result"
    }
   ],
   "source": [
    "getSimilarity(tf1,tf2)"
   ]
  },
  {
   "cell_type": "code",
   "execution_count": 313,
   "metadata": {},
   "outputs": [
    {
     "data": {
      "text/plain": [
       "0.3146671595910213"
      ]
     },
     "execution_count": 313,
     "metadata": {},
     "output_type": "execute_result"
    }
   ],
   "source": [
    "getSimilarity(tf1,tf3)"
   ]
  },
  {
   "cell_type": "code",
   "execution_count": 314,
   "metadata": {},
   "outputs": [
    {
     "data": {
      "text/plain": [
       "0.21417918524592341"
      ]
     },
     "execution_count": 314,
     "metadata": {},
     "output_type": "execute_result"
    }
   ],
   "source": [
    "getSimilarity(tf2,tf3)"
   ]
  },
  {
   "cell_type": "code",
   "execution_count": 315,
   "metadata": {
    "scrolled": true
   },
   "outputs": [
    {
     "data": {
      "text/plain": [
       "1.0"
      ]
     },
     "execution_count": 315,
     "metadata": {},
     "output_type": "execute_result"
    }
   ],
   "source": [
    "getSimilarity(tf1,tf1)"
   ]
  },
  {
   "cell_type": "code",
   "execution_count": null,
   "metadata": {},
   "outputs": [],
   "source": []
  },
  {
   "cell_type": "code",
   "execution_count": null,
   "metadata": {},
   "outputs": [],
   "source": [
    "text_to_sum = TextSummary(corpus,5)\n",
    "print(text_to_sum.output())"
   ]
  }
 ],
 "metadata": {
  "kernelspec": {
   "display_name": "Python 3",
   "language": "python",
   "name": "python3"
  },
  "language_info": {
   "codemirror_mode": {
    "name": "ipython",
    "version": 3
   },
   "file_extension": ".py",
   "mimetype": "text/x-python",
   "name": "python",
   "nbconvert_exporter": "python",
   "pygments_lexer": "ipython3",
   "version": "3.7.0"
  }
 },
 "nbformat": 4,
 "nbformat_minor": 2
}
