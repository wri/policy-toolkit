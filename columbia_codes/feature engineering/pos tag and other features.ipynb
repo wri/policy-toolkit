{
 "cells": [
  {
   "cell_type": "markdown",
   "metadata": {},
   "source": [
    "<b>Summary:</b>\n",
    "1. import gold_standard dataset and noisy dataset\n",
    "2. data cleaning\n",
    "3. TfidfVectorizer\n",
    "4. pos tag and other features"
   ]
  },
  {
   "cell_type": "markdown",
   "metadata": {},
   "source": [
    "## 1. import gold_standard dataset and noisy dataset"
   ]
  },
  {
   "cell_type": "code",
   "execution_count": 1,
   "metadata": {},
   "outputs": [
    {
     "name": "stderr",
     "output_type": "stream",
     "text": [
      "[nltk_data] Downloading package stopwords to\n",
      "[nltk_data]     C:\\Users\\ivy06\\AppData\\Roaming\\nltk_data...\n",
      "[nltk_data]   Package stopwords is already up-to-date!\n"
     ]
    }
   ],
   "source": [
    "import numpy as np\n",
    "import pandas as pd\n",
    "import seaborn as sns\n",
    "import matplotlib.pyplot as plt\n",
    "import statistics, xgboost, textblob, string\n",
    "from nltk.corpus import stopwords\n",
    "from sklearn.feature_extraction.text import TfidfVectorizer\n",
    "from textblob import TextBlob \n",
    "from sklearn.feature_extraction.text import CountVectorizer\n",
    "from sklearn.feature_extraction.text import TfidfTransformer\n",
    "from sklearn.naive_bayes import MultinomialNB\n",
    "from sklearn.pipeline import Pipeline\n",
    "from sklearn.metrics import roc_auc_score, roc_curve\n",
    "from sklearn.linear_model import SGDClassifier\n",
    "from sklearn.model_selection import GridSearchCV\n",
    "from sklearn.metrics import f1_score\n",
    "from sklearn.metrics import mean_squared_error, matthews_corrcoef, confusion_matrix\n",
    "from scipy.stats import pearsonr\n",
    "from sklearn.model_selection import train_test_split\n",
    "from sklearn import decomposition, ensemble\n",
    "from sklearn import model_selection, preprocessing, linear_model, naive_bayes, metrics, svm\n",
    "from time import time\n",
    "from sklearn.naive_bayes import GaussianNB\n",
    "from xgboost import plot_importance\n",
    "from matplotlib import pyplot\n",
    "import nltk\n",
    "nltk.download('stopwords')\n",
    "\n",
    "RAN_STATE=42"
   ]
  },
  {
   "cell_type": "code",
   "execution_count": 2,
   "metadata": {},
   "outputs": [
    {
     "data": {
      "text/html": [
       "<div>\n",
       "<style scoped>\n",
       "    .dataframe tbody tr th:only-of-type {\n",
       "        vertical-align: middle;\n",
       "    }\n",
       "\n",
       "    .dataframe tbody tr th {\n",
       "        vertical-align: top;\n",
       "    }\n",
       "\n",
       "    .dataframe thead th {\n",
       "        text-align: right;\n",
       "    }\n",
       "</style>\n",
       "<table border=\"1\" class=\"dataframe\">\n",
       "  <thead>\n",
       "    <tr style=\"text-align: right;\">\n",
       "      <th></th>\n",
       "      <th>label</th>\n",
       "      <th>sentences</th>\n",
       "      <th>class</th>\n",
       "    </tr>\n",
       "  </thead>\n",
       "  <tbody>\n",
       "    <tr>\n",
       "      <td>0</td>\n",
       "      <td>0</td>\n",
       "      <td>the purpose of the middle level institutions i...</td>\n",
       "      <td>1.0</td>\n",
       "    </tr>\n",
       "    <tr>\n",
       "      <td>1</td>\n",
       "      <td>1</td>\n",
       "      <td>to address these challenges, the government wi...</td>\n",
       "      <td>1.0</td>\n",
       "    </tr>\n",
       "    <tr>\n",
       "      <td>2</td>\n",
       "      <td>2</td>\n",
       "      <td>lack of a database and information to support ...</td>\n",
       "      <td>3.0</td>\n",
       "    </tr>\n",
       "    <tr>\n",
       "      <td>3</td>\n",
       "      <td>3</td>\n",
       "      <td>to contribute to efforts to reduce poverty and...</td>\n",
       "      <td>3.0</td>\n",
       "    </tr>\n",
       "    <tr>\n",
       "      <td>4</td>\n",
       "      <td>4</td>\n",
       "      <td>secretariat. its terms of reference will inclu...</td>\n",
       "      <td>1.0</td>\n",
       "    </tr>\n",
       "  </tbody>\n",
       "</table>\n",
       "</div>"
      ],
      "text/plain": [
       "   label                                          sentences  class\n",
       "0      0  the purpose of the middle level institutions i...    1.0\n",
       "1      1  to address these challenges, the government wi...    1.0\n",
       "2      2  lack of a database and information to support ...    3.0\n",
       "3      3  to contribute to efforts to reduce poverty and...    3.0\n",
       "4      4  secretariat. its terms of reference will inclu...    1.0"
      ]
     },
     "execution_count": 2,
     "metadata": {},
     "output_type": "execute_result"
    }
   ],
   "source": [
    "gold_standard=pd.read_csv(\"wri/policy-toolkit-master/data/processed/gold_standard.csv\")\n",
    "gold_standard.head()"
   ]
  },
  {
   "cell_type": "code",
   "execution_count": 3,
   "metadata": {},
   "outputs": [
    {
     "data": {
      "text/html": [
       "<div>\n",
       "<style scoped>\n",
       "    .dataframe tbody tr th:only-of-type {\n",
       "        vertical-align: middle;\n",
       "    }\n",
       "\n",
       "    .dataframe tbody tr th {\n",
       "        vertical-align: top;\n",
       "    }\n",
       "\n",
       "    .dataframe thead th {\n",
       "        text-align: right;\n",
       "    }\n",
       "</style>\n",
       "<table border=\"1\" class=\"dataframe\">\n",
       "  <thead>\n",
       "    <tr style=\"text-align: right;\">\n",
       "      <th></th>\n",
       "      <th>Unnamed: 0</th>\n",
       "      <th>Unnamed: 0.1</th>\n",
       "      <th>sentences</th>\n",
       "      <th>name</th>\n",
       "      <th>country</th>\n",
       "      <th>page</th>\n",
       "      <th>languages</th>\n",
       "    </tr>\n",
       "  </thead>\n",
       "  <tbody>\n",
       "    <tr>\n",
       "      <td>0</td>\n",
       "      <td>0</td>\n",
       "      <td>3</td>\n",
       "      <td>part ii  farm and  6. maintenance of 1 0 per c...</td>\n",
       "      <td>../data/raw/kenya/results/Agriculture Rules/1.txt</td>\n",
       "      <td>Kenya</td>\n",
       "      <td>1</td>\n",
       "      <td>en</td>\n",
       "    </tr>\n",
       "    <tr>\n",
       "      <td>1</td>\n",
       "      <td>1</td>\n",
       "      <td>4</td>\n",
       "      <td>1 0. harvesting. 1 1. farm forestry compensati...</td>\n",
       "      <td>../data/raw/kenya/results/Agriculture Rules/1.txt</td>\n",
       "      <td>Kenya</td>\n",
       "      <td>1</td>\n",
       "      <td>en</td>\n",
       "    </tr>\n",
       "    <tr>\n",
       "      <td>2</td>\n",
       "      <td>2</td>\n",
       "      <td>21</td>\n",
       "      <td>these rules may be cited as the agriculture fa...</td>\n",
       "      <td>../data/raw/kenya/results/Agriculture Rules/2.txt</td>\n",
       "      <td>Kenya</td>\n",
       "      <td>2</td>\n",
       "      <td>en</td>\n",
       "    </tr>\n",
       "    <tr>\n",
       "      <td>3</td>\n",
       "      <td>3</td>\n",
       "      <td>31</td>\n",
       "      <td>these rules shall apply for the purposes of pr...</td>\n",
       "      <td>../data/raw/kenya/results/Agriculture Rules/2.txt</td>\n",
       "      <td>Kenya</td>\n",
       "      <td>2</td>\n",
       "      <td>en</td>\n",
       "    </tr>\n",
       "    <tr>\n",
       "      <td>4</td>\n",
       "      <td>4</td>\n",
       "      <td>16</td>\n",
       "      <td>in these rules, unless the context otherwise r...</td>\n",
       "      <td>../data/raw/kenya/results/Agriculture Rules/2.txt</td>\n",
       "      <td>Kenya</td>\n",
       "      <td>2</td>\n",
       "      <td>en</td>\n",
       "    </tr>\n",
       "  </tbody>\n",
       "</table>\n",
       "</div>"
      ],
      "text/plain": [
       "   Unnamed: 0  Unnamed: 0.1  \\\n",
       "0           0             3   \n",
       "1           1             4   \n",
       "2           2            21   \n",
       "3           3            31   \n",
       "4           4            16   \n",
       "\n",
       "                                           sentences  \\\n",
       "0  part ii  farm and  6. maintenance of 1 0 per c...   \n",
       "1  1 0. harvesting. 1 1. farm forestry compensati...   \n",
       "2  these rules may be cited as the agriculture fa...   \n",
       "3  these rules shall apply for the purposes of pr...   \n",
       "4  in these rules, unless the context otherwise r...   \n",
       "\n",
       "                                                name country  page languages  \n",
       "0  ../data/raw/kenya/results/Agriculture Rules/1.txt   Kenya     1        en  \n",
       "1  ../data/raw/kenya/results/Agriculture Rules/1.txt   Kenya     1        en  \n",
       "2  ../data/raw/kenya/results/Agriculture Rules/2.txt   Kenya     2        en  \n",
       "3  ../data/raw/kenya/results/Agriculture Rules/2.txt   Kenya     2        en  \n",
       "4  ../data/raw/kenya/results/Agriculture Rules/2.txt   Kenya     2        en  "
      ]
     },
     "execution_count": 3,
     "metadata": {},
     "output_type": "execute_result"
    }
   ],
   "source": [
    "noisy=pd.read_csv(\"wri/policy-toolkit-master/data/processed/noisy.csv\")\n",
    "noisy.head()"
   ]
  },
  {
   "cell_type": "code",
   "execution_count": 4,
   "metadata": {},
   "outputs": [
    {
     "name": "stdout",
     "output_type": "stream",
     "text": [
      "(1033, 3)\n",
      "(16146, 7)\n"
     ]
    }
   ],
   "source": [
    "print(gold_standard.shape)\n",
    "print(noisy.shape)"
   ]
  },
  {
   "cell_type": "code",
   "execution_count": 5,
   "metadata": {},
   "outputs": [],
   "source": [
    "df1=gold_standard['sentences'].reset_index()\n",
    "df1['data']='gold'\n",
    "df2=noisy['sentences'].reset_index()\n",
    "df2['data']='noisy'\n",
    "\n",
    "df=pd.concat([df1,df2],ignore_index=True)"
   ]
  },
  {
   "cell_type": "code",
   "execution_count": 6,
   "metadata": {},
   "outputs": [
    {
     "data": {
      "text/html": [
       "<div>\n",
       "<style scoped>\n",
       "    .dataframe tbody tr th:only-of-type {\n",
       "        vertical-align: middle;\n",
       "    }\n",
       "\n",
       "    .dataframe tbody tr th {\n",
       "        vertical-align: top;\n",
       "    }\n",
       "\n",
       "    .dataframe thead th {\n",
       "        text-align: right;\n",
       "    }\n",
       "</style>\n",
       "<table border=\"1\" class=\"dataframe\">\n",
       "  <thead>\n",
       "    <tr style=\"text-align: right;\">\n",
       "      <th></th>\n",
       "      <th>index</th>\n",
       "      <th>sentences</th>\n",
       "      <th>data</th>\n",
       "    </tr>\n",
       "  </thead>\n",
       "  <tbody>\n",
       "    <tr>\n",
       "      <td>0</td>\n",
       "      <td>0</td>\n",
       "      <td>the purpose of the middle level institutions i...</td>\n",
       "      <td>gold</td>\n",
       "    </tr>\n",
       "    <tr>\n",
       "      <td>1</td>\n",
       "      <td>1</td>\n",
       "      <td>to address these challenges, the government wi...</td>\n",
       "      <td>gold</td>\n",
       "    </tr>\n",
       "    <tr>\n",
       "      <td>2</td>\n",
       "      <td>2</td>\n",
       "      <td>lack of a database and information to support ...</td>\n",
       "      <td>gold</td>\n",
       "    </tr>\n",
       "    <tr>\n",
       "      <td>3</td>\n",
       "      <td>3</td>\n",
       "      <td>to contribute to efforts to reduce poverty and...</td>\n",
       "      <td>gold</td>\n",
       "    </tr>\n",
       "    <tr>\n",
       "      <td>4</td>\n",
       "      <td>4</td>\n",
       "      <td>secretariat. its terms of reference will inclu...</td>\n",
       "      <td>gold</td>\n",
       "    </tr>\n",
       "  </tbody>\n",
       "</table>\n",
       "</div>"
      ],
      "text/plain": [
       "   index                                          sentences  data\n",
       "0      0  the purpose of the middle level institutions i...  gold\n",
       "1      1  to address these challenges, the government wi...  gold\n",
       "2      2  lack of a database and information to support ...  gold\n",
       "3      3  to contribute to efforts to reduce poverty and...  gold\n",
       "4      4  secretariat. its terms of reference will inclu...  gold"
      ]
     },
     "execution_count": 6,
     "metadata": {},
     "output_type": "execute_result"
    }
   ],
   "source": [
    "df.head()"
   ]
  },
  {
   "cell_type": "code",
   "execution_count": 7,
   "metadata": {},
   "outputs": [
    {
     "data": {
      "text/plain": [
       "(17179, 3)"
      ]
     },
     "execution_count": 7,
     "metadata": {},
     "output_type": "execute_result"
    }
   ],
   "source": [
    "df.shape"
   ]
  },
  {
   "cell_type": "markdown",
   "metadata": {},
   "source": [
    "## 2. data cleaning"
   ]
  },
  {
   "cell_type": "code",
   "execution_count": 12,
   "metadata": {},
   "outputs": [],
   "source": [
    "# NLTK Stop words\n",
    "import numpy as np\n",
    "import pandas as pd\n",
    "import re, nltk, spacy, gensim\n",
    "# Sklearn\n",
    "from sklearn.decomposition import LatentDirichletAllocation, TruncatedSVD\n",
    "from sklearn.feature_extraction.text import CountVectorizer, TfidfVectorizer\n",
    "from sklearn.model_selection import GridSearchCV\n",
    "from pprint import pprint\n",
    "# Plotting tools\n",
    "import pyLDAvis\n",
    "import pyLDAvis.sklearn\n",
    "import matplotlib.pyplot as plt\n",
    "from nltk.corpus import stopwords\n",
    "\n",
    "nlp = spacy.load(\"en_core_web_sm\")\n",
    "stop_words = stopwords.words('english')\n",
    "stop_words.extend(['from', 'subject', 're', 'edu', 'use','shall','sub', 'government','act'])\n",
    "\n",
    "def datacleaning(text=df.sentences):\n",
    "    # Convert to list\n",
    "    data = text.values.tolist()\n",
    "    \n",
    "    data_words=[]\n",
    "    data_lemmatized = []\n",
    "    data_lemmatized2 = []\n",
    "    allowed_postags=['NOUN', 'VERB']\n",
    "    for sent in data:\n",
    "        # Remove distracting single quotes\n",
    "        tmp=re.sub(r\"\\'\", \"\", sent)\n",
    "        \n",
    "        # Tokenization & Remove stopwords\n",
    "        tmp=gensim.utils.simple_preprocess(str(tmp), deacc=True)\n",
    "        tmp2=[]\n",
    "        for item in tmp:\n",
    "            if item not in stop_words:\n",
    "                tmp2.append(item)\n",
    "        data_words.append(tmp2)  # deacc=True removes punctuations\n",
    "        \n",
    "        # Lemmatization\n",
    "        doc = nlp(\" \".join(tmp2)) \n",
    "        token_tmp=[token.lemma_ if token.lemma_ not in ['-PRON-'] else '' for token in doc if token.pos_ in allowed_postags]\n",
    "        data_lemmatized.append(\" \".join(token_tmp))\n",
    "        data_lemmatized2.append(token_tmp)\n",
    "\n",
    "    return data_lemmatized,data_lemmatized2"
   ]
  },
  {
   "cell_type": "code",
   "execution_count": 13,
   "metadata": {},
   "outputs": [],
   "source": [
    "data_lemmatized, data_lemmatized2=datacleaning(df.sentences)"
   ]
  },
  {
   "cell_type": "code",
   "execution_count": null,
   "metadata": {},
   "outputs": [],
   "source": []
  },
  {
   "cell_type": "code",
   "execution_count": 8,
   "metadata": {},
   "outputs": [],
   "source": [
    "# get most frequent words\n",
    "def get_top_n_words(corpus, m=None, n=None):\n",
    "    vec = CountVectorizer().fit(corpus)\n",
    "    bag_of_words = vec.transform(corpus)\n",
    "    sum_words = bag_of_words.sum(axis=0) \n",
    "    words_freq = [(word, sum_words[0, idx]) for word, idx in vec.vocabulary_.items()]\n",
    "    words_freq =sorted(words_freq, key = lambda x: x[1], reverse=True)\n",
    "    return words_freq[m:n]"
   ]
  },
  {
   "cell_type": "code",
   "execution_count": 15,
   "metadata": {},
   "outputs": [
    {
     "data": {
      "image/png": "[encoded data removed]",
      "text/plain": [
       "<Figure size 432x288 with 1 Axes>"
      ]
     },
     "metadata": {
      "needs_background": "light"
     },
     "output_type": "display_data"
    }
   ],
   "source": [
    "# the top two words are 'book' and 'read'. I removed these two words\n",
    "data=get_top_n_words(data_lemmatized,0,25)\n",
    "n_groups = len(data)\n",
    "vals_films = [x[1] for x in data]\n",
    "legends_films = [x[0] for x in data]\n",
    "\n",
    "sns.barplot(x=vals_films, y=legends_films, palette=\"Blues_d\", linewidth=0)\n",
    "plt.xlabel(\"Ocurrences Count\")\n",
    "plt.title(\"Most Frequent Words\")\n",
    "plt.show()"
   ]
  },
  {
   "cell_type": "markdown",
   "metadata": {},
   "source": [
    "## 3. TfidfVectorizer"
   ]
  },
  {
   "cell_type": "code",
   "execution_count": 16,
   "metadata": {},
   "outputs": [
    {
     "data": {
      "text/plain": [
       "(17179, 2261)"
      ]
     },
     "execution_count": 16,
     "metadata": {},
     "output_type": "execute_result"
    }
   ],
   "source": [
    "tfidfconverter = TfidfVectorizer(min_df=0.001, stop_words=stopwords.words('english'))\n",
    "X0 = tfidfconverter.fit_transform(data_lemmatized).toarray()\n",
    "vocab=tfidfconverter.vocabulary_\n",
    "\n",
    "X0.shape"
   ]
  },
  {
   "cell_type": "code",
   "execution_count": 22,
   "metadata": {},
   "outputs": [],
   "source": [
    "X=pd.DataFrame(X0, columns=sorted(vocab.keys()))"
   ]
  },
  {
   "cell_type": "code",
   "execution_count": 18,
   "metadata": {},
   "outputs": [
    {
     "data": {
      "text/html": [
       "<div>\n",
       "<style scoped>\n",
       "    .dataframe tbody tr th:only-of-type {\n",
       "        vertical-align: middle;\n",
       "    }\n",
       "\n",
       "    .dataframe tbody tr th {\n",
       "        vertical-align: top;\n",
       "    }\n",
       "\n",
       "    .dataframe thead th {\n",
       "        text-align: right;\n",
       "    }\n",
       "</style>\n",
       "<table border=\"1\" class=\"dataframe\">\n",
       "  <thead>\n",
       "    <tr style=\"text-align: right;\">\n",
       "      <th></th>\n",
       "      <th>abadi</th>\n",
       "      <th>abandon</th>\n",
       "      <th>abandonment</th>\n",
       "      <th>ability</th>\n",
       "      <th>absence</th>\n",
       "      <th>absorption</th>\n",
       "      <th>abundance</th>\n",
       "      <th>abuse</th>\n",
       "      <th>accelerate</th>\n",
       "      <th>accept</th>\n",
       "      <th>...</th>\n",
       "      <th>write</th>\n",
       "      <th>writing</th>\n",
       "      <th>xiii</th>\n",
       "      <th>xiv</th>\n",
       "      <th>xv</th>\n",
       "      <th>year</th>\n",
       "      <th>yield</th>\n",
       "      <th>youth</th>\n",
       "      <th>zone</th>\n",
       "      <th>zoo</th>\n",
       "    </tr>\n",
       "  </thead>\n",
       "  <tbody>\n",
       "    <tr>\n",
       "      <td>0</td>\n",
       "      <td>0.0</td>\n",
       "      <td>0.0</td>\n",
       "      <td>0.0</td>\n",
       "      <td>0.0</td>\n",
       "      <td>0.0</td>\n",
       "      <td>0.0</td>\n",
       "      <td>0.0</td>\n",
       "      <td>0.0</td>\n",
       "      <td>0.0</td>\n",
       "      <td>0.0</td>\n",
       "      <td>...</td>\n",
       "      <td>0.0</td>\n",
       "      <td>0.0</td>\n",
       "      <td>0.0</td>\n",
       "      <td>0.0</td>\n",
       "      <td>0.0</td>\n",
       "      <td>0.0</td>\n",
       "      <td>0.0</td>\n",
       "      <td>0.0</td>\n",
       "      <td>0.0</td>\n",
       "      <td>0.0</td>\n",
       "    </tr>\n",
       "    <tr>\n",
       "      <td>1</td>\n",
       "      <td>0.0</td>\n",
       "      <td>0.0</td>\n",
       "      <td>0.0</td>\n",
       "      <td>0.0</td>\n",
       "      <td>0.0</td>\n",
       "      <td>0.0</td>\n",
       "      <td>0.0</td>\n",
       "      <td>0.0</td>\n",
       "      <td>0.0</td>\n",
       "      <td>0.0</td>\n",
       "      <td>...</td>\n",
       "      <td>0.0</td>\n",
       "      <td>0.0</td>\n",
       "      <td>0.0</td>\n",
       "      <td>0.0</td>\n",
       "      <td>0.0</td>\n",
       "      <td>0.0</td>\n",
       "      <td>0.0</td>\n",
       "      <td>0.0</td>\n",
       "      <td>0.0</td>\n",
       "      <td>0.0</td>\n",
       "    </tr>\n",
       "    <tr>\n",
       "      <td>2</td>\n",
       "      <td>0.0</td>\n",
       "      <td>0.0</td>\n",
       "      <td>0.0</td>\n",
       "      <td>0.0</td>\n",
       "      <td>0.0</td>\n",
       "      <td>0.0</td>\n",
       "      <td>0.0</td>\n",
       "      <td>0.0</td>\n",
       "      <td>0.0</td>\n",
       "      <td>0.0</td>\n",
       "      <td>...</td>\n",
       "      <td>0.0</td>\n",
       "      <td>0.0</td>\n",
       "      <td>0.0</td>\n",
       "      <td>0.0</td>\n",
       "      <td>0.0</td>\n",
       "      <td>0.0</td>\n",
       "      <td>0.0</td>\n",
       "      <td>0.0</td>\n",
       "      <td>0.0</td>\n",
       "      <td>0.0</td>\n",
       "    </tr>\n",
       "    <tr>\n",
       "      <td>3</td>\n",
       "      <td>0.0</td>\n",
       "      <td>0.0</td>\n",
       "      <td>0.0</td>\n",
       "      <td>0.0</td>\n",
       "      <td>0.0</td>\n",
       "      <td>0.0</td>\n",
       "      <td>0.0</td>\n",
       "      <td>0.0</td>\n",
       "      <td>0.0</td>\n",
       "      <td>0.0</td>\n",
       "      <td>...</td>\n",
       "      <td>0.0</td>\n",
       "      <td>0.0</td>\n",
       "      <td>0.0</td>\n",
       "      <td>0.0</td>\n",
       "      <td>0.0</td>\n",
       "      <td>0.0</td>\n",
       "      <td>0.0</td>\n",
       "      <td>0.0</td>\n",
       "      <td>0.0</td>\n",
       "      <td>0.0</td>\n",
       "    </tr>\n",
       "    <tr>\n",
       "      <td>4</td>\n",
       "      <td>0.0</td>\n",
       "      <td>0.0</td>\n",
       "      <td>0.0</td>\n",
       "      <td>0.0</td>\n",
       "      <td>0.0</td>\n",
       "      <td>0.0</td>\n",
       "      <td>0.0</td>\n",
       "      <td>0.0</td>\n",
       "      <td>0.0</td>\n",
       "      <td>0.0</td>\n",
       "      <td>...</td>\n",
       "      <td>0.0</td>\n",
       "      <td>0.0</td>\n",
       "      <td>0.0</td>\n",
       "      <td>0.0</td>\n",
       "      <td>0.0</td>\n",
       "      <td>0.0</td>\n",
       "      <td>0.0</td>\n",
       "      <td>0.0</td>\n",
       "      <td>0.0</td>\n",
       "      <td>0.0</td>\n",
       "    </tr>\n",
       "  </tbody>\n",
       "</table>\n",
       "<p>5 rows × 2261 columns</p>\n",
       "</div>"
      ],
      "text/plain": [
       "   abadi  abandon  abandonment  ability  absence  absorption  abundance  \\\n",
       "0    0.0      0.0          0.0      0.0      0.0         0.0        0.0   \n",
       "1    0.0      0.0          0.0      0.0      0.0         0.0        0.0   \n",
       "2    0.0      0.0          0.0      0.0      0.0         0.0        0.0   \n",
       "3    0.0      0.0          0.0      0.0      0.0         0.0        0.0   \n",
       "4    0.0      0.0          0.0      0.0      0.0         0.0        0.0   \n",
       "\n",
       "   abuse  accelerate  accept  ...  write  writing  xiii  xiv   xv  year  \\\n",
       "0    0.0         0.0     0.0  ...    0.0      0.0   0.0  0.0  0.0   0.0   \n",
       "1    0.0         0.0     0.0  ...    0.0      0.0   0.0  0.0  0.0   0.0   \n",
       "2    0.0         0.0     0.0  ...    0.0      0.0   0.0  0.0  0.0   0.0   \n",
       "3    0.0         0.0     0.0  ...    0.0      0.0   0.0  0.0  0.0   0.0   \n",
       "4    0.0         0.0     0.0  ...    0.0      0.0   0.0  0.0  0.0   0.0   \n",
       "\n",
       "   yield  youth  zone  zoo  \n",
       "0    0.0    0.0   0.0  0.0  \n",
       "1    0.0    0.0   0.0  0.0  \n",
       "2    0.0    0.0   0.0  0.0  \n",
       "3    0.0    0.0   0.0  0.0  \n",
       "4    0.0    0.0   0.0  0.0  \n",
       "\n",
       "[5 rows x 2261 columns]"
      ]
     },
     "execution_count": 18,
     "metadata": {},
     "output_type": "execute_result"
    }
   ],
   "source": [
    "X.head()"
   ]
  },
  {
   "cell_type": "markdown",
   "metadata": {},
   "source": [
    "## 4. pos tag and other features"
   ]
  },
  {
   "cell_type": "markdown",
   "metadata": {},
   "source": [
    "1.Word Count of the documents – total number of words in the documents<br/>\n",
    "2.Character Count of the documents – total number of characters in the documents<br/>\n",
    "3.Puncutation Count in the Complete Essay – total number of punctuation marks in the documents<br/>\n",
    "4.Upper Case Count in the Complete Essay – total number of upper count words in the documents<br/>\n",
    "5.Title Word Count in the Complete Essay – total number of proper case (title) words in the documents<br/>\n",
    "6.Frequency distribution of Part of Speech Tags"
   ]
  },
  {
   "cell_type": "code",
   "execution_count": 19,
   "metadata": {},
   "outputs": [],
   "source": [
    "pos_list=['char_count', \n",
    "          'word_count', \n",
    "          'punctuation_count', \n",
    "          'title_word_count', \n",
    "          'upper_case_word_count', \n",
    "          'noun_count', \n",
    "          'verb_count', \n",
    "          'adj_count', \n",
    "          'adv_count', \n",
    "          'pron_count']\n",
    "\n",
    "char_count = df['sentences'].apply(len)\n",
    "word_count = df['sentences'].apply(lambda x: len(x.split()))\n",
    "punctuation_count = df['sentences'].apply(lambda x: len(\"\".join(_ for _ in x if _ in string.punctuation))) \n",
    "title_word_count = df['sentences'].apply(lambda x: len([wrd for wrd in x.split() if wrd.istitle()]))\n",
    "upper_case_word_count = df['sentences'].apply(lambda x: len([wrd for wrd in x.split() if wrd.isupper()]))"
   ]
  },
  {
   "cell_type": "code",
   "execution_count": 20,
   "metadata": {},
   "outputs": [],
   "source": [
    "pos_family = {\n",
    "    'noun' : ['NN','NNS','NNP','NNPS'],\n",
    "    'pron' : ['PRP','PRP$','WP','WP$'],\n",
    "    'verb' : ['VB','VBD','VBG','VBN','VBP','VBZ'],\n",
    "    'adj' :  ['JJ','JJR','JJS'],\n",
    "    'adv' : ['RB','RBR','RBS','WRB']\n",
    "}\n",
    "\n",
    "# function to check and get the part of speech tag count of a words in a given sentence\n",
    "def check_pos_tag(x, flag):\n",
    "    cnt = 0\n",
    "    try:\n",
    "        wiki = textblob.TextBlob(x)\n",
    "        for tup in wiki.tags:\n",
    "            ppo = list(tup)[1]\n",
    "            if ppo in pos_family[flag]:\n",
    "                cnt += 1\n",
    "    except:\n",
    "        pass\n",
    "    return cnt\n",
    "\n",
    "noun_count = df['sentences'].apply(lambda x: check_pos_tag(x, 'noun'))\n",
    "verb_count = df['sentences'].apply(lambda x: check_pos_tag(x, 'verb'))\n",
    "adj_count = df['sentences'].apply(lambda x: check_pos_tag(x, 'adj'))\n",
    "adv_count = df['sentences'].apply(lambda x: check_pos_tag(x, 'adv'))\n",
    "pron_count = df['sentences'].apply(lambda x: check_pos_tag(x, 'pron'))"
   ]
  },
  {
   "cell_type": "code",
   "execution_count": 23,
   "metadata": {},
   "outputs": [],
   "source": [
    "X2=pd.DataFrame(list(char_count),columns=['char_count'])\n",
    "X2['word_count'] = word_count\n",
    "X2['punctuation_count'] = punctuation_count\n",
    "X2['title_word_count'] = title_word_count\n",
    "X2['upper_case_word_count'] = upper_case_word_count"
   ]
  },
  {
   "cell_type": "code",
   "execution_count": 21,
   "metadata": {},
   "outputs": [
    {
     "data": {
      "text/plain": [
       "17179"
      ]
     },
     "execution_count": 21,
     "metadata": {},
     "output_type": "execute_result"
    }
   ],
   "source": [
    "len(pron_count)"
   ]
  },
  {
   "cell_type": "code",
   "execution_count": 24,
   "metadata": {},
   "outputs": [],
   "source": [
    "from textblob import TextBlob \n",
    "textbloblist=[]\n",
    "for sent in df.sentences:\n",
    "    textbloblist.append(TextBlob(sent).sentiment.polarity)\n",
    "X2['senti_score']=textbloblist"
   ]
  },
  {
   "cell_type": "code",
   "execution_count": 25,
   "metadata": {},
   "outputs": [],
   "source": [
    "from sklearn import preprocessing\n",
    "names = X2.columns\n",
    "scaler = preprocessing.StandardScaler()\n",
    "scaled_df = scaler.fit_transform(X2)\n",
    "scaled_df = pd.DataFrame(scaled_df, columns=names)"
   ]
  },
  {
   "cell_type": "code",
   "execution_count": 26,
   "metadata": {},
   "outputs": [],
   "source": [
    "X=pd.concat([X, scaled_df], axis=1)\n",
    "\n",
    "# concat features with original dataset\n",
    "df=pd.concat([df, X], axis=1)"
   ]
  },
  {
   "cell_type": "code",
   "execution_count": 28,
   "metadata": {},
   "outputs": [
    {
     "data": {
      "text/html": [
       "<div>\n",
       "<style scoped>\n",
       "    .dataframe tbody tr th:only-of-type {\n",
       "        vertical-align: middle;\n",
       "    }\n",
       "\n",
       "    .dataframe tbody tr th {\n",
       "        vertical-align: top;\n",
       "    }\n",
       "\n",
       "    .dataframe thead th {\n",
       "        text-align: right;\n",
       "    }\n",
       "</style>\n",
       "<table border=\"1\" class=\"dataframe\">\n",
       "  <thead>\n",
       "    <tr style=\"text-align: right;\">\n",
       "      <th></th>\n",
       "      <th>index</th>\n",
       "      <th>sentences</th>\n",
       "      <th>data</th>\n",
       "      <th>abadi</th>\n",
       "      <th>abandon</th>\n",
       "      <th>abandonment</th>\n",
       "      <th>ability</th>\n",
       "      <th>absence</th>\n",
       "      <th>absorption</th>\n",
       "      <th>abundance</th>\n",
       "      <th>...</th>\n",
       "      <th>yield</th>\n",
       "      <th>youth</th>\n",
       "      <th>zone</th>\n",
       "      <th>zoo</th>\n",
       "      <th>char_count</th>\n",
       "      <th>word_count</th>\n",
       "      <th>punctuation_count</th>\n",
       "      <th>title_word_count</th>\n",
       "      <th>upper_case_word_count</th>\n",
       "      <th>senti_score</th>\n",
       "    </tr>\n",
       "  </thead>\n",
       "  <tbody>\n",
       "    <tr>\n",
       "      <td>0</td>\n",
       "      <td>0</td>\n",
       "      <td>the purpose of the middle level institutions i...</td>\n",
       "      <td>gold</td>\n",
       "      <td>0.0</td>\n",
       "      <td>0.0</td>\n",
       "      <td>0.0</td>\n",
       "      <td>0.0</td>\n",
       "      <td>0.0</td>\n",
       "      <td>0.0</td>\n",
       "      <td>0.0</td>\n",
       "      <td>...</td>\n",
       "      <td>0.0</td>\n",
       "      <td>0.0</td>\n",
       "      <td>0.0</td>\n",
       "      <td>0.0</td>\n",
       "      <td>0.815786</td>\n",
       "      <td>0.688656</td>\n",
       "      <td>-0.039327</td>\n",
       "      <td>0.0</td>\n",
       "      <td>0.0</td>\n",
       "      <td>-0.122679</td>\n",
       "    </tr>\n",
       "    <tr>\n",
       "      <td>1</td>\n",
       "      <td>1</td>\n",
       "      <td>to address these challenges, the government wi...</td>\n",
       "      <td>gold</td>\n",
       "      <td>0.0</td>\n",
       "      <td>0.0</td>\n",
       "      <td>0.0</td>\n",
       "      <td>0.0</td>\n",
       "      <td>0.0</td>\n",
       "      <td>0.0</td>\n",
       "      <td>0.0</td>\n",
       "      <td>...</td>\n",
       "      <td>0.0</td>\n",
       "      <td>0.0</td>\n",
       "      <td>0.0</td>\n",
       "      <td>0.0</td>\n",
       "      <td>0.978311</td>\n",
       "      <td>0.563013</td>\n",
       "      <td>0.180594</td>\n",
       "      <td>0.0</td>\n",
       "      <td>0.0</td>\n",
       "      <td>0.869564</td>\n",
       "    </tr>\n",
       "    <tr>\n",
       "      <td>2</td>\n",
       "      <td>2</td>\n",
       "      <td>lack of a database and information to support ...</td>\n",
       "      <td>gold</td>\n",
       "      <td>0.0</td>\n",
       "      <td>0.0</td>\n",
       "      <td>0.0</td>\n",
       "      <td>0.0</td>\n",
       "      <td>0.0</td>\n",
       "      <td>0.0</td>\n",
       "      <td>0.0</td>\n",
       "      <td>...</td>\n",
       "      <td>0.0</td>\n",
       "      <td>0.0</td>\n",
       "      <td>0.0</td>\n",
       "      <td>0.0</td>\n",
       "      <td>-0.027142</td>\n",
       "      <td>-0.154943</td>\n",
       "      <td>-0.259248</td>\n",
       "      <td>0.0</td>\n",
       "      <td>0.0</td>\n",
       "      <td>0.321523</td>\n",
       "    </tr>\n",
       "    <tr>\n",
       "      <td>3</td>\n",
       "      <td>3</td>\n",
       "      <td>to contribute to efforts to reduce poverty and...</td>\n",
       "      <td>gold</td>\n",
       "      <td>0.0</td>\n",
       "      <td>0.0</td>\n",
       "      <td>0.0</td>\n",
       "      <td>0.0</td>\n",
       "      <td>0.0</td>\n",
       "      <td>0.0</td>\n",
       "      <td>0.0</td>\n",
       "      <td>...</td>\n",
       "      <td>0.0</td>\n",
       "      <td>0.0</td>\n",
       "      <td>0.0</td>\n",
       "      <td>0.0</td>\n",
       "      <td>-0.096008</td>\n",
       "      <td>-0.154943</td>\n",
       "      <td>-0.149287</td>\n",
       "      <td>0.0</td>\n",
       "      <td>0.0</td>\n",
       "      <td>-0.688027</td>\n",
       "    </tr>\n",
       "    <tr>\n",
       "      <td>4</td>\n",
       "      <td>4</td>\n",
       "      <td>secretariat. its terms of reference will inclu...</td>\n",
       "      <td>gold</td>\n",
       "      <td>0.0</td>\n",
       "      <td>0.0</td>\n",
       "      <td>0.0</td>\n",
       "      <td>0.0</td>\n",
       "      <td>0.0</td>\n",
       "      <td>0.0</td>\n",
       "      <td>0.0</td>\n",
       "      <td>...</td>\n",
       "      <td>0.0</td>\n",
       "      <td>0.0</td>\n",
       "      <td>0.0</td>\n",
       "      <td>0.0</td>\n",
       "      <td>-0.016123</td>\n",
       "      <td>-0.136994</td>\n",
       "      <td>-0.369208</td>\n",
       "      <td>0.0</td>\n",
       "      <td>0.0</td>\n",
       "      <td>0.431131</td>\n",
       "    </tr>\n",
       "  </tbody>\n",
       "</table>\n",
       "<p>5 rows × 2270 columns</p>\n",
       "</div>"
      ],
      "text/plain": [
       "   index                                          sentences  data  abadi  \\\n",
       "0      0  the purpose of the middle level institutions i...  gold    0.0   \n",
       "1      1  to address these challenges, the government wi...  gold    0.0   \n",
       "2      2  lack of a database and information to support ...  gold    0.0   \n",
       "3      3  to contribute to efforts to reduce poverty and...  gold    0.0   \n",
       "4      4  secretariat. its terms of reference will inclu...  gold    0.0   \n",
       "\n",
       "   abandon  abandonment  ability  absence  absorption  abundance  ...  yield  \\\n",
       "0      0.0          0.0      0.0      0.0         0.0        0.0  ...    0.0   \n",
       "1      0.0          0.0      0.0      0.0         0.0        0.0  ...    0.0   \n",
       "2      0.0          0.0      0.0      0.0         0.0        0.0  ...    0.0   \n",
       "3      0.0          0.0      0.0      0.0         0.0        0.0  ...    0.0   \n",
       "4      0.0          0.0      0.0      0.0         0.0        0.0  ...    0.0   \n",
       "\n",
       "   youth  zone  zoo  char_count  word_count  punctuation_count  \\\n",
       "0    0.0   0.0  0.0    0.815786    0.688656          -0.039327   \n",
       "1    0.0   0.0  0.0    0.978311    0.563013           0.180594   \n",
       "2    0.0   0.0  0.0   -0.027142   -0.154943          -0.259248   \n",
       "3    0.0   0.0  0.0   -0.096008   -0.154943          -0.149287   \n",
       "4    0.0   0.0  0.0   -0.016123   -0.136994          -0.369208   \n",
       "\n",
       "   title_word_count  upper_case_word_count  senti_score  \n",
       "0               0.0                    0.0    -0.122679  \n",
       "1               0.0                    0.0     0.869564  \n",
       "2               0.0                    0.0     0.321523  \n",
       "3               0.0                    0.0    -0.688027  \n",
       "4               0.0                    0.0     0.431131  \n",
       "\n",
       "[5 rows x 2270 columns]"
      ]
     },
     "execution_count": 28,
     "metadata": {},
     "output_type": "execute_result"
    }
   ],
   "source": [
    "df.head()"
   ]
  },
  {
   "cell_type": "code",
   "execution_count": null,
   "metadata": {},
   "outputs": [
    {
     "name": "stderr",
     "output_type": "stream",
     "text": [
      "C:\\Programs\\anaconda\\anaconda3\\lib\\site-packages\\pandas\\core\\ops\\__init__.py:1115: FutureWarning: elementwise comparison failed; returning scalar instead, but in the future will perform elementwise comparison\n",
      "  result = method(y)\n"
     ]
    }
   ],
   "source": [
    "gold_new=df[df['data']=='gold']\n",
    "noisy_new=df[df['data']=='noisy']"
   ]
  },
  {
   "cell_type": "code",
   "execution_count": null,
   "metadata": {},
   "outputs": [],
   "source": [
    "gold_new.head"
   ]
  },
  {
   "cell_type": "code",
   "execution_count": null,
   "metadata": {},
   "outputs": [],
   "source": [
    "noisy_new.head()"
   ]
  },
  {
   "cell_type": "code",
   "execution_count": null,
   "metadata": {},
   "outputs": [],
   "source": [
    "print(gold_new.shape)\n",
    "print(noisy_new.shape)"
   ]
  },
  {
   "cell_type": "code",
   "execution_count": 27,
   "metadata": {},
   "outputs": [],
   "source": [
    "df.to_csv('yg2619/policy-toolkit/columbia_codes/data/new_features.csv',index=False)"
   ]
  },
  {
   "cell_type": "code",
   "execution_count": null,
   "metadata": {},
   "outputs": [],
   "source": []
  },
  {
   "cell_type": "code",
   "execution_count": null,
   "metadata": {},
   "outputs": [],
   "source": []
  }
 ],
 "metadata": {
  "kernelspec": {
   "display_name": "Python 3",
   "language": "python",
   "name": "python3"
  },
  "language_info": {
   "codemirror_mode": {
    "name": "ipython",
    "version": 3
   },
   "file_extension": ".py",
   "mimetype": "text/x-python",
   "name": "python",
   "nbconvert_exporter": "python",
   "pygments_lexer": "ipython3",
   "version": "3.7.0"
  }
 },
 "nbformat": 4,
 "nbformat_minor": 2
}
