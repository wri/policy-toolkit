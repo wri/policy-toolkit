{
 "cells": [
  {
   "cell_type": "markdown",
   "metadata": {},
   "source": [
    "Summary:\n",
    "In this notebook, we used IBM API to do the entity recognition."
   ]
  },
  {
   "cell_type": "markdown",
   "metadata": {},
   "source": [
    "## import data"
   ]
  },
  {
   "cell_type": "code",
   "execution_count": 1,
   "metadata": {},
   "outputs": [],
   "source": [
    "import pandas as pd"
   ]
  },
  {
   "cell_type": "code",
   "execution_count": 2,
   "metadata": {},
   "outputs": [],
   "source": [
    "gold_standard=pd.read_csv(\"wri/policy-toolkit-master/data/processed/gold_standard.csv\")\n",
    "noisy=pd.read_csv(\"wri/policy-toolkit-master/data/processed/noisy.csv\")\n"
   ]
  },
  {
   "cell_type": "code",
   "execution_count": 13,
   "metadata": {},
   "outputs": [
    {
     "data": {
      "text/html": [
       "<div>\n",
       "<style scoped>\n",
       "    .dataframe tbody tr th:only-of-type {\n",
       "        vertical-align: middle;\n",
       "    }\n",
       "\n",
       "    .dataframe tbody tr th {\n",
       "        vertical-align: top;\n",
       "    }\n",
       "\n",
       "    .dataframe thead th {\n",
       "        text-align: right;\n",
       "    }\n",
       "</style>\n",
       "<table border=\"1\" class=\"dataframe\">\n",
       "  <thead>\n",
       "    <tr style=\"text-align: right;\">\n",
       "      <th></th>\n",
       "      <th>label</th>\n",
       "      <th>sentences</th>\n",
       "      <th>class</th>\n",
       "    </tr>\n",
       "  </thead>\n",
       "  <tbody>\n",
       "    <tr>\n",
       "      <td>0</td>\n",
       "      <td>0</td>\n",
       "      <td>the purpose of the middle level institutions i...</td>\n",
       "      <td>1.0</td>\n",
       "    </tr>\n",
       "    <tr>\n",
       "      <td>1</td>\n",
       "      <td>1</td>\n",
       "      <td>to address these challenges, the government wi...</td>\n",
       "      <td>1.0</td>\n",
       "    </tr>\n",
       "    <tr>\n",
       "      <td>2</td>\n",
       "      <td>2</td>\n",
       "      <td>lack of a database and information to support ...</td>\n",
       "      <td>3.0</td>\n",
       "    </tr>\n",
       "    <tr>\n",
       "      <td>3</td>\n",
       "      <td>3</td>\n",
       "      <td>to contribute to efforts to reduce poverty and...</td>\n",
       "      <td>3.0</td>\n",
       "    </tr>\n",
       "    <tr>\n",
       "      <td>4</td>\n",
       "      <td>4</td>\n",
       "      <td>secretariat. its terms of reference will inclu...</td>\n",
       "      <td>1.0</td>\n",
       "    </tr>\n",
       "  </tbody>\n",
       "</table>\n",
       "</div>"
      ],
      "text/plain": [
       "   label                                          sentences  class\n",
       "0      0  the purpose of the middle level institutions i...    1.0\n",
       "1      1  to address these challenges, the government wi...    1.0\n",
       "2      2  lack of a database and information to support ...    3.0\n",
       "3      3  to contribute to efforts to reduce poverty and...    3.0\n",
       "4      4  secretariat. its terms of reference will inclu...    1.0"
      ]
     },
     "execution_count": 13,
     "metadata": {},
     "output_type": "execute_result"
    }
   ],
   "source": [
    "gold_standard.head()"
   ]
  },
  {
   "cell_type": "code",
   "execution_count": 16,
   "metadata": {},
   "outputs": [
    {
     "data": {
      "text/plain": [
       "(1033, 3)"
      ]
     },
     "execution_count": 16,
     "metadata": {},
     "output_type": "execute_result"
    }
   ],
   "source": [
    "gold_standard.shape"
   ]
  },
  {
   "cell_type": "code",
   "execution_count": 14,
   "metadata": {},
   "outputs": [
    {
     "data": {
      "text/html": [
       "<div>\n",
       "<style scoped>\n",
       "    .dataframe tbody tr th:only-of-type {\n",
       "        vertical-align: middle;\n",
       "    }\n",
       "\n",
       "    .dataframe tbody tr th {\n",
       "        vertical-align: top;\n",
       "    }\n",
       "\n",
       "    .dataframe thead th {\n",
       "        text-align: right;\n",
       "    }\n",
       "</style>\n",
       "<table border=\"1\" class=\"dataframe\">\n",
       "  <thead>\n",
       "    <tr style=\"text-align: right;\">\n",
       "      <th></th>\n",
       "      <th>Unnamed: 0</th>\n",
       "      <th>Unnamed: 0.1</th>\n",
       "      <th>sentences</th>\n",
       "      <th>name</th>\n",
       "      <th>country</th>\n",
       "      <th>page</th>\n",
       "      <th>languages</th>\n",
       "    </tr>\n",
       "  </thead>\n",
       "  <tbody>\n",
       "    <tr>\n",
       "      <td>0</td>\n",
       "      <td>0</td>\n",
       "      <td>3</td>\n",
       "      <td>part ii  farm and  6. maintenance of 1 0 per c...</td>\n",
       "      <td>../data/raw/kenya/results/Agriculture Rules/1.txt</td>\n",
       "      <td>Kenya</td>\n",
       "      <td>1</td>\n",
       "      <td>en</td>\n",
       "    </tr>\n",
       "    <tr>\n",
       "      <td>1</td>\n",
       "      <td>1</td>\n",
       "      <td>4</td>\n",
       "      <td>1 0. harvesting. 1 1. farm forestry compensati...</td>\n",
       "      <td>../data/raw/kenya/results/Agriculture Rules/1.txt</td>\n",
       "      <td>Kenya</td>\n",
       "      <td>1</td>\n",
       "      <td>en</td>\n",
       "    </tr>\n",
       "    <tr>\n",
       "      <td>2</td>\n",
       "      <td>2</td>\n",
       "      <td>21</td>\n",
       "      <td>these rules may be cited as the agriculture fa...</td>\n",
       "      <td>../data/raw/kenya/results/Agriculture Rules/2.txt</td>\n",
       "      <td>Kenya</td>\n",
       "      <td>2</td>\n",
       "      <td>en</td>\n",
       "    </tr>\n",
       "    <tr>\n",
       "      <td>3</td>\n",
       "      <td>3</td>\n",
       "      <td>31</td>\n",
       "      <td>these rules shall apply for the purposes of pr...</td>\n",
       "      <td>../data/raw/kenya/results/Agriculture Rules/2.txt</td>\n",
       "      <td>Kenya</td>\n",
       "      <td>2</td>\n",
       "      <td>en</td>\n",
       "    </tr>\n",
       "    <tr>\n",
       "      <td>4</td>\n",
       "      <td>4</td>\n",
       "      <td>16</td>\n",
       "      <td>in these rules, unless the context otherwise r...</td>\n",
       "      <td>../data/raw/kenya/results/Agriculture Rules/2.txt</td>\n",
       "      <td>Kenya</td>\n",
       "      <td>2</td>\n",
       "      <td>en</td>\n",
       "    </tr>\n",
       "  </tbody>\n",
       "</table>\n",
       "</div>"
      ],
      "text/plain": [
       "   Unnamed: 0  Unnamed: 0.1  \\\n",
       "0           0             3   \n",
       "1           1             4   \n",
       "2           2            21   \n",
       "3           3            31   \n",
       "4           4            16   \n",
       "\n",
       "                                           sentences  \\\n",
       "0  part ii  farm and  6. maintenance of 1 0 per c...   \n",
       "1  1 0. harvesting. 1 1. farm forestry compensati...   \n",
       "2  these rules may be cited as the agriculture fa...   \n",
       "3  these rules shall apply for the purposes of pr...   \n",
       "4  in these rules, unless the context otherwise r...   \n",
       "\n",
       "                                                name country  page languages  \n",
       "0  ../data/raw/kenya/results/Agriculture Rules/1.txt   Kenya     1        en  \n",
       "1  ../data/raw/kenya/results/Agriculture Rules/1.txt   Kenya     1        en  \n",
       "2  ../data/raw/kenya/results/Agriculture Rules/2.txt   Kenya     2        en  \n",
       "3  ../data/raw/kenya/results/Agriculture Rules/2.txt   Kenya     2        en  \n",
       "4  ../data/raw/kenya/results/Agriculture Rules/2.txt   Kenya     2        en  "
      ]
     },
     "execution_count": 14,
     "metadata": {},
     "output_type": "execute_result"
    }
   ],
   "source": [
    "noisy.head()"
   ]
  },
  {
   "cell_type": "code",
   "execution_count": 36,
   "metadata": {},
   "outputs": [
    {
     "data": {
      "text/plain": [
       "(16146, 7)"
      ]
     },
     "execution_count": 36,
     "metadata": {},
     "output_type": "execute_result"
    }
   ],
   "source": [
    "noisy.shape"
   ]
  },
  {
   "cell_type": "markdown",
   "metadata": {},
   "source": [
    "## An example"
   ]
  },
  {
   "cell_type": "code",
   "execution_count": 46,
   "metadata": {},
   "outputs": [
    {
     "name": "stdout",
     "output_type": "stream",
     "text": [
      "{\n",
      "  \"usage\": {\n",
      "    \"text_units\": 1,\n",
      "    \"text_characters\": 664,\n",
      "    \"features\": 1\n",
      "  },\n",
      "  \"language\": \"en\",\n",
      "  \"entities\": [\n",
      "    {\n",
      "      \"type\": \"Organization\",\n",
      "      \"text\": \"ministerial coordination committee\",\n",
      "      \"relevance\": 0.958279,\n",
      "      \"count\": 1,\n",
      "      \"confidence\": 0.535767\n",
      "    },\n",
      "    {\n",
      "      \"type\": \"Organization\",\n",
      "      \"text\": \"asds\",\n",
      "      \"relevance\": 0.893874,\n",
      "      \"disambiguation\": {\n",
      "        \"name\": \"American_Society_of_Dental_Surgeons\",\n",
      "        \"dbpedia_resource\": \"http://dbpedia.org/resource/American_Society_of_Dental_Surgeons\"\n",
      "      },\n",
      "      \"count\": 1,\n",
      "      \"confidence\": 0.691308\n",
      "    },\n",
      "    {\n",
      "      \"type\": \"Organization\",\n",
      "      \"text\": \"icc\",\n",
      "      \"relevance\": 0.786463,\n",
      "      \"count\": 2,\n",
      "      \"confidence\": 0.997123\n",
      "    }\n",
      "  ]\n",
      "}\n"
     ]
    }
   ],
   "source": [
    "# IBM waston NLU\n",
    "import json\n",
    "from ibm_watson import NaturalLanguageUnderstandingV1\n",
    "from ibm_watson.natural_language_understanding_v1 import Features, EntitiesOptions\n",
    "\n",
    "txt=df.sentences[0]\n",
    "\n",
    "#after registering on ibm cloud, we can get free apikey and url\n",
    "natural_language_understanding = NaturalLanguageUnderstandingV1(\n",
    "    version='2019-07-12',\n",
    "    iam_apikey='******',\n",
    "    url='******'\n",
    ")\n",
    "\n",
    "response = natural_language_understanding.analyze(\n",
    "    text=txt,\n",
    "    features=Features(entities=EntitiesOptions(sentiment=False, limit=20))).get_result()\n",
    "\n",
    "print(json.dumps(response, indent=2))"
   ]
  },
  {
   "cell_type": "markdown",
   "metadata": {},
   "source": [
    "## 3. Use IBM API to do Entity Recognition on gold_standard dataset and noisy dataset"
   ]
  },
  {
   "cell_type": "code",
   "execution_count": 22,
   "metadata": {},
   "outputs": [],
   "source": [
    "NER_results_gold=[]\n",
    "i=0\n",
    "for sent in gold_standard.sentences:\n",
    "    txt=sent\n",
    "    response = natural_language_understanding.analyze(\n",
    "        text=txt,\n",
    "        features=Features(entities=EntitiesOptions(sentiment=False, limit=20))).get_result()\n",
    "    if len(response['entities'])>0:\n",
    "        for j in range(len(response['entities'])):\n",
    "            NER_results_gold.append([i, response['entities'][j]['type'], response['entities'][j]['text'], \n",
    "                                response['entities'][j]['relevance'], response['entities'][j]['confidence']])\n",
    "    i+=1"
   ]
  },
  {
   "cell_type": "code",
   "execution_count": 24,
   "metadata": {},
   "outputs": [
    {
     "data": {
      "text/plain": [
       "[[0, 'Organization', 'ministerial coordination committee', 0.958279, 0.535767],\n",
       " [0, 'Organization', 'asds', 0.893874, 0.691308],\n",
       " [0, 'Organization', 'icc', 0.786463, 0.997123],\n",
       " [1, 'Organization', 'government', 0.978348, 0.685561],\n",
       " [6, 'Person', 'kenyas', 0.963296, 0.399072]]"
      ]
     },
     "execution_count": 24,
     "metadata": {},
     "output_type": "execute_result"
    }
   ],
   "source": [
    "NER_results_gold[:5]"
   ]
  },
  {
   "cell_type": "code",
   "execution_count": 26,
   "metadata": {},
   "outputs": [],
   "source": [
    "NER_results_gold_file=pd.DataFrame(NER_results_gold, columns=['index','type','text','relevance','confidence'])"
   ]
  },
  {
   "cell_type": "code",
   "execution_count": null,
   "metadata": {},
   "outputs": [],
   "source": [
    "NER_results_noisy=[]\n",
    "i=0\n",
    "for sent in noisy.sentences:\n",
    "    txt=sent\n",
    "    response = natural_language_understanding.analyze(\n",
    "        text=txt,\n",
    "        features=Features(entities=EntitiesOptions(sentiment=False, limit=20))).get_result()\n",
    "    if len(response['entities'])>0:\n",
    "        for j in range(len(response['entities'])):\n",
    "            NER_results_noisy.append([i, response['entities'][j]['type'], response['entities'][j]['text'], \n",
    "                                response['entities'][j]['relevance']])\n",
    "    i+=1"
   ]
  },
  {
   "cell_type": "code",
   "execution_count": 49,
   "metadata": {},
   "outputs": [],
   "source": [
    "NER_results_noisy_file=pd.DataFrame(NER_results_noisy, columns=['index','type','text','relevance'])"
   ]
  },
  {
   "cell_type": "code",
   "execution_count": 50,
   "metadata": {},
   "outputs": [],
   "source": [
    "NER_results_gold_file.to_csv('yg2619/policy-toolkit/columbia_codes/data/NER_results_gold_file.csv',index=False)\n",
    "NER_results_noisy_file.to_csv('yg2619/policy-toolkit/columbia_codes/data/NER_results_noisy_file.csv',index=False)"
   ]
  },
  {
   "cell_type": "code",
   "execution_count": 28,
   "metadata": {},
   "outputs": [
    {
     "data": {
      "text/html": [
       "<div>\n",
       "<style scoped>\n",
       "    .dataframe tbody tr th:only-of-type {\n",
       "        vertical-align: middle;\n",
       "    }\n",
       "\n",
       "    .dataframe tbody tr th {\n",
       "        vertical-align: top;\n",
       "    }\n",
       "\n",
       "    .dataframe thead th {\n",
       "        text-align: right;\n",
       "    }\n",
       "</style>\n",
       "<table border=\"1\" class=\"dataframe\">\n",
       "  <thead>\n",
       "    <tr style=\"text-align: right;\">\n",
       "      <th></th>\n",
       "      <th>index</th>\n",
       "      <th>type</th>\n",
       "      <th>text</th>\n",
       "      <th>relevance</th>\n",
       "      <th>confidence</th>\n",
       "    </tr>\n",
       "  </thead>\n",
       "  <tbody>\n",
       "    <tr>\n",
       "      <td>0</td>\n",
       "      <td>0</td>\n",
       "      <td>Organization</td>\n",
       "      <td>ministerial coordination committee</td>\n",
       "      <td>0.958279</td>\n",
       "      <td>0.535767</td>\n",
       "    </tr>\n",
       "    <tr>\n",
       "      <td>1</td>\n",
       "      <td>0</td>\n",
       "      <td>Organization</td>\n",
       "      <td>asds</td>\n",
       "      <td>0.893874</td>\n",
       "      <td>0.691308</td>\n",
       "    </tr>\n",
       "    <tr>\n",
       "      <td>2</td>\n",
       "      <td>0</td>\n",
       "      <td>Organization</td>\n",
       "      <td>icc</td>\n",
       "      <td>0.786463</td>\n",
       "      <td>0.997123</td>\n",
       "    </tr>\n",
       "    <tr>\n",
       "      <td>3</td>\n",
       "      <td>1</td>\n",
       "      <td>Organization</td>\n",
       "      <td>government</td>\n",
       "      <td>0.978348</td>\n",
       "      <td>0.685561</td>\n",
       "    </tr>\n",
       "    <tr>\n",
       "      <td>4</td>\n",
       "      <td>6</td>\n",
       "      <td>Person</td>\n",
       "      <td>kenyas</td>\n",
       "      <td>0.963296</td>\n",
       "      <td>0.399072</td>\n",
       "    </tr>\n",
       "    <tr>\n",
       "      <td>5</td>\n",
       "      <td>6</td>\n",
       "      <td>Organization</td>\n",
       "      <td>government</td>\n",
       "      <td>0.491032</td>\n",
       "      <td>0.948379</td>\n",
       "    </tr>\n",
       "    <tr>\n",
       "      <td>6</td>\n",
       "      <td>7</td>\n",
       "      <td>Organization</td>\n",
       "      <td>rural electrification authority</td>\n",
       "      <td>0.978348</td>\n",
       "      <td>0.630186</td>\n",
       "    </tr>\n",
       "    <tr>\n",
       "      <td>7</td>\n",
       "      <td>8</td>\n",
       "      <td>Organization</td>\n",
       "      <td>ministry of youth and sports</td>\n",
       "      <td>0.958279</td>\n",
       "      <td>0.742694</td>\n",
       "    </tr>\n",
       "    <tr>\n",
       "      <td>8</td>\n",
       "      <td>8</td>\n",
       "      <td>Organization</td>\n",
       "      <td>youth enterprise development fund</td>\n",
       "      <td>0.485520</td>\n",
       "      <td>0.489316</td>\n",
       "    </tr>\n",
       "    <tr>\n",
       "      <td>9</td>\n",
       "      <td>8</td>\n",
       "      <td>Organization</td>\n",
       "      <td>constituency development fund</td>\n",
       "      <td>0.348411</td>\n",
       "      <td>0.309545</td>\n",
       "    </tr>\n",
       "  </tbody>\n",
       "</table>\n",
       "</div>"
      ],
      "text/plain": [
       "   index          type                                text  relevance  \\\n",
       "0      0  Organization  ministerial coordination committee   0.958279   \n",
       "1      0  Organization                                asds   0.893874   \n",
       "2      0  Organization                                 icc   0.786463   \n",
       "3      1  Organization                          government   0.978348   \n",
       "4      6        Person                              kenyas   0.963296   \n",
       "5      6  Organization                          government   0.491032   \n",
       "6      7  Organization     rural electrification authority   0.978348   \n",
       "7      8  Organization        ministry of youth and sports   0.958279   \n",
       "8      8  Organization   youth enterprise development fund   0.485520   \n",
       "9      8  Organization       constituency development fund   0.348411   \n",
       "\n",
       "   confidence  \n",
       "0    0.535767  \n",
       "1    0.691308  \n",
       "2    0.997123  \n",
       "3    0.685561  \n",
       "4    0.399072  \n",
       "5    0.948379  \n",
       "6    0.630186  \n",
       "7    0.742694  \n",
       "8    0.489316  \n",
       "9    0.309545  "
      ]
     },
     "execution_count": 28,
     "metadata": {},
     "output_type": "execute_result"
    }
   ],
   "source": [
    "NER_results_gold_file.head(10)"
   ]
  },
  {
   "cell_type": "code",
   "execution_count": 51,
   "metadata": {},
   "outputs": [
    {
     "data": {
      "text/html": [
       "<div>\n",
       "<style scoped>\n",
       "    .dataframe tbody tr th:only-of-type {\n",
       "        vertical-align: middle;\n",
       "    }\n",
       "\n",
       "    .dataframe tbody tr th {\n",
       "        vertical-align: top;\n",
       "    }\n",
       "\n",
       "    .dataframe thead th {\n",
       "        text-align: right;\n",
       "    }\n",
       "</style>\n",
       "<table border=\"1\" class=\"dataframe\">\n",
       "  <thead>\n",
       "    <tr style=\"text-align: right;\">\n",
       "      <th></th>\n",
       "      <th>index</th>\n",
       "      <th>type</th>\n",
       "      <th>text</th>\n",
       "      <th>relevance</th>\n",
       "    </tr>\n",
       "  </thead>\n",
       "  <tbody>\n",
       "    <tr>\n",
       "      <td>0</td>\n",
       "      <td>0</td>\n",
       "      <td>Facility</td>\n",
       "      <td>part ii  farm</td>\n",
       "      <td>0.978348</td>\n",
       "    </tr>\n",
       "    <tr>\n",
       "      <td>1</td>\n",
       "      <td>4</td>\n",
       "      <td>Organization</td>\n",
       "      <td>district agricultural committee</td>\n",
       "      <td>0.978348</td>\n",
       "    </tr>\n",
       "    <tr>\n",
       "      <td>2</td>\n",
       "      <td>8</td>\n",
       "      <td>Organization</td>\n",
       "      <td>district agricultural committee</td>\n",
       "      <td>0.999900</td>\n",
       "    </tr>\n",
       "    <tr>\n",
       "      <td>3</td>\n",
       "      <td>9</td>\n",
       "      <td>Organization</td>\n",
       "      <td>district agricultural committee</td>\n",
       "      <td>0.978348</td>\n",
       "    </tr>\n",
       "    <tr>\n",
       "      <td>4</td>\n",
       "      <td>11</td>\n",
       "      <td>Organization</td>\n",
       "      <td>district agricultural committee</td>\n",
       "      <td>0.978348</td>\n",
       "    </tr>\n",
       "    <tr>\n",
       "      <td>5</td>\n",
       "      <td>11</td>\n",
       "      <td>Organization</td>\n",
       "      <td>district environment committee</td>\n",
       "      <td>0.869258</td>\n",
       "    </tr>\n",
       "    <tr>\n",
       "      <td>6</td>\n",
       "      <td>12</td>\n",
       "      <td>Organization</td>\n",
       "      <td>district agricultural committee</td>\n",
       "      <td>0.978348</td>\n",
       "    </tr>\n",
       "    <tr>\n",
       "      <td>7</td>\n",
       "      <td>13</td>\n",
       "      <td>Quantity</td>\n",
       "      <td>thirty 3 0 days</td>\n",
       "      <td>0.963296</td>\n",
       "    </tr>\n",
       "    <tr>\n",
       "      <td>8</td>\n",
       "      <td>13</td>\n",
       "      <td>Organization</td>\n",
       "      <td>district agricultural committee</td>\n",
       "      <td>0.422088</td>\n",
       "    </tr>\n",
       "    <tr>\n",
       "      <td>9</td>\n",
       "      <td>14</td>\n",
       "      <td>Organization</td>\n",
       "      <td>district agricultural committee</td>\n",
       "      <td>0.978348</td>\n",
       "    </tr>\n",
       "  </tbody>\n",
       "</table>\n",
       "</div>"
      ],
      "text/plain": [
       "   index          type                             text  relevance\n",
       "0      0      Facility                    part ii  farm   0.978348\n",
       "1      4  Organization  district agricultural committee   0.978348\n",
       "2      8  Organization  district agricultural committee   0.999900\n",
       "3      9  Organization  district agricultural committee   0.978348\n",
       "4     11  Organization  district agricultural committee   0.978348\n",
       "5     11  Organization   district environment committee   0.869258\n",
       "6     12  Organization  district agricultural committee   0.978348\n",
       "7     13      Quantity                  thirty 3 0 days   0.963296\n",
       "8     13  Organization  district agricultural committee   0.422088\n",
       "9     14  Organization  district agricultural committee   0.978348"
      ]
     },
     "execution_count": 51,
     "metadata": {},
     "output_type": "execute_result"
    }
   ],
   "source": [
    "NER_results_noisy_file.head(10)"
   ]
  },
  {
   "cell_type": "code",
   "execution_count": null,
   "metadata": {},
   "outputs": [],
   "source": []
  },
  {
   "cell_type": "code",
   "execution_count": null,
   "metadata": {},
   "outputs": [],
   "source": []
  },
  {
   "cell_type": "code",
   "execution_count": null,
   "metadata": {},
   "outputs": [],
   "source": []
  }
 ],
 "metadata": {
  "kernelspec": {
   "display_name": "Python 3",
   "language": "python",
   "name": "python3"
  },
  "language_info": {
   "codemirror_mode": {
    "name": "ipython",
    "version": 3
   },
   "file_extension": ".py",
   "mimetype": "text/x-python",
   "name": "python",
   "nbconvert_exporter": "python",
   "pygments_lexer": "ipython3",
   "version": "3.7.0"
  }
 },
 "nbformat": 4,
 "nbformat_minor": 2
}
